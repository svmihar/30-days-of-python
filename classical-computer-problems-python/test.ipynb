{
 "cells": [
  {
   "cell_type": "code",
   "execution_count": 7,
   "metadata": {},
   "outputs": [],
   "source": [
    "from random import sample, randint, shuffle\n",
    "from numpy import average as avg"
   ]
  },
  {
   "cell_type": "code",
   "execution_count": 10,
   "metadata": {},
   "outputs": [],
   "source": [
    "x = [randint(1,100) for _ in range(10)]"
   ]
  },
  {
   "cell_type": "code",
   "execution_count": 11,
   "metadata": {},
   "outputs": [
    {
     "data": {
      "text/plain": [
       "[85, 15, 1, 80, 34, 59, 88, 58, 37, 35]"
      ]
     },
     "execution_count": 11,
     "metadata": {},
     "output_type": "execute_result"
    }
   ],
   "source": [
    "x"
   ]
  },
  {
   "cell_type": "code",
   "execution_count": 16,
   "metadata": {},
   "outputs": [],
   "source": [
    "s = sample(x, k=10)"
   ]
  },
  {
   "cell_type": "code",
   "execution_count": 27,
   "metadata": {},
   "outputs": [
    {
     "data": {
      "text/plain": [
       "[34, 15, 58, 35, 37, 85, 59, 88, 80, 1]"
      ]
     },
     "execution_count": 27,
     "metadata": {},
     "output_type": "execute_result"
    }
   ],
   "source": [
    "s"
   ]
  },
  {
   "cell_type": "code",
   "execution_count": 28,
   "metadata": {},
   "outputs": [
    {
     "data": {
      "text/plain": [
       "[1, 15, 34, 35, 37, 58, 59, 80, 85, 88]"
      ]
     },
     "execution_count": 28,
     "metadata": {},
     "output_type": "execute_result"
    }
   ],
   "source": [
    "sorted(s)"
   ]
  },
  {
   "cell_type": "code",
   "execution_count": 20,
   "metadata": {},
   "outputs": [
    {
     "data": {
      "text/plain": [
       "49.2"
      ]
     },
     "execution_count": 20,
     "metadata": {},
     "output_type": "execute_result"
    }
   ],
   "source": [
    "avg(s)"
   ]
  },
  {
   "cell_type": "code",
   "execution_count": 31,
   "metadata": {},
   "outputs": [],
   "source": [
    "s_ = sample(x, k=2)"
   ]
  },
  {
   "cell_type": "code",
   "execution_count": 32,
   "metadata": {},
   "outputs": [
    {
     "data": {
      "text/plain": [
       "[1, 35]"
      ]
     },
     "execution_count": 32,
     "metadata": {},
     "output_type": "execute_result"
    }
   ],
   "source": [
    "s_"
   ]
  },
  {
   "cell_type": "code",
   "execution_count": 1,
   "metadata": {},
   "outputs": [],
   "source": [
    "from random import uniform"
   ]
  },
  {
   "cell_type": "code",
   "execution_count": 2,
   "metadata": {},
   "outputs": [
    {
     "name": "stdout",
     "output_type": "stream",
     "text": [
      "1.083005632598109\n",
      "8.427906159840447\n",
      "1.3137124308099501\n",
      "6.366663583654625\n",
      "8.757012589118382\n",
      "9.673759439812484\n",
      "7.655617840060755\n",
      "5.3841714460308685\n",
      "2.232041539105114\n",
      "9.847526020257153\n"
     ]
    }
   ],
   "source": [
    "for _ in range(10): \n",
    "    print(uniform(1,10))"
   ]
  },
  {
   "cell_type": "code",
   "execution_count": 3,
   "metadata": {},
   "outputs": [
    {
     "data": {
      "text/plain": [
       "\u001b[0;31mSignature:\u001b[0m \u001b[0muniform\u001b[0m\u001b[0;34m(\u001b[0m\u001b[0ma\u001b[0m\u001b[0;34m,\u001b[0m \u001b[0mb\u001b[0m\u001b[0;34m)\u001b[0m\u001b[0;34m\u001b[0m\u001b[0;34m\u001b[0m\u001b[0m\n",
       "\u001b[0;31mDocstring:\u001b[0m Get a random number in the range [a, b) or [a, b] depending on rounding.\n",
       "\u001b[0;31mFile:\u001b[0m      ~/anaconda3/lib/python3.7/random.py\n",
       "\u001b[0;31mType:\u001b[0m      method\n"
      ]
     },
     "metadata": {},
     "output_type": "display_data"
    }
   ],
   "source": [
    "uniform?"
   ]
  },
  {
   "cell_type": "code",
   "execution_count": 4,
   "metadata": {},
   "outputs": [],
   "source": [
    "x = [] "
   ]
  },
  {
   "cell_type": "code",
   "execution_count": 5,
   "metadata": {},
   "outputs": [],
   "source": [
    "for _ in range(100): \n",
    "    x.append(uniform(1,10))"
   ]
  },
  {
   "cell_type": "code",
   "execution_count": 6,
   "metadata": {},
   "outputs": [
    {
     "data": {
      "text/plain": [
       "[3.8384592606119394,\n",
       " 4.353953684195082,\n",
       " 9.11065546274346,\n",
       " 9.735888773515937,\n",
       " 9.212390042689353,\n",
       " 5.46135485457304,\n",
       " 7.3334478196664765,\n",
       " 5.715915847430094,\n",
       " 4.362819454843796,\n",
       " 1.3352444643663337,\n",
       " 1.285768475101781,\n",
       " 8.80931829960991,\n",
       " 2.266555059033532,\n",
       " 1.8390309899294306,\n",
       " 1.1379514181590287,\n",
       " 6.536616215658277,\n",
       " 9.225583391458676,\n",
       " 1.791621083534948,\n",
       " 5.8345000715820525,\n",
       " 7.388764423829718,\n",
       " 7.481350206297698,\n",
       " 6.137722914302917,\n",
       " 6.580517065767665,\n",
       " 3.57228317868165,\n",
       " 4.7373363549196945,\n",
       " 7.464141391064085,\n",
       " 8.210222556003178,\n",
       " 3.0707089384754833,\n",
       " 8.694990233036496,\n",
       " 8.319575433894057,\n",
       " 9.785287182615168,\n",
       " 6.039781598349745,\n",
       " 3.1699606242076848,\n",
       " 6.233112822960925,\n",
       " 8.070986367006462,\n",
       " 9.64573924845541,\n",
       " 3.0228300896239837,\n",
       " 6.620393324791555,\n",
       " 5.64157265029881,\n",
       " 4.718784896963091,\n",
       " 8.462048044133539,\n",
       " 6.944782462159208,\n",
       " 6.01085962765721,\n",
       " 1.6131212809871753,\n",
       " 9.07199611477886,\n",
       " 2.547901976219488,\n",
       " 2.1758741455266026,\n",
       " 2.3365500422442183,\n",
       " 6.413514733457156,\n",
       " 3.5838923620802765,\n",
       " 1.771988522680212,\n",
       " 4.0158721397801775,\n",
       " 1.9359251144776657,\n",
       " 6.81341834438435,\n",
       " 4.176475611858145,\n",
       " 1.952786799389822,\n",
       " 8.888520037636287,\n",
       " 9.227879425374562,\n",
       " 4.232026250080118,\n",
       " 9.399403225229909,\n",
       " 7.170426578116502,\n",
       " 4.727474803833373,\n",
       " 8.033598283492019,\n",
       " 4.627606669710842,\n",
       " 6.268672904229499,\n",
       " 6.240767002353169,\n",
       " 4.3153653125003775,\n",
       " 4.687839964350703,\n",
       " 9.35236931320535,\n",
       " 6.8454851787991675,\n",
       " 6.797127359461967,\n",
       " 2.862778278912293,\n",
       " 6.55909980983302,\n",
       " 8.53442009655239,\n",
       " 7.815130179821438,\n",
       " 9.038944055511873,\n",
       " 7.3031670536504425,\n",
       " 7.83914648726623,\n",
       " 8.779492557042182,\n",
       " 9.5475124606268,\n",
       " 2.6149600581448245,\n",
       " 4.474697672082735,\n",
       " 1.5019498524253394,\n",
       " 8.601643981266164,\n",
       " 1.8373687155917424,\n",
       " 7.876588733253847,\n",
       " 8.855392479440646,\n",
       " 7.756594051762786,\n",
       " 2.712073759180304,\n",
       " 7.57059182151947,\n",
       " 9.123432882667329,\n",
       " 3.3835824259955314,\n",
       " 4.3189552116683005,\n",
       " 1.8394058443527033,\n",
       " 8.080477633973324,\n",
       " 9.590809080721264,\n",
       " 8.446521592070267,\n",
       " 3.3079729990586366,\n",
       " 5.153535997952787,\n",
       " 9.635570369159767]"
      ]
     },
     "execution_count": 6,
     "metadata": {},
     "output_type": "execute_result"
    }
   ],
   "source": [
    "x"
   ]
  },
  {
   "cell_type": "code",
   "execution_count": 8,
   "metadata": {},
   "outputs": [
    {
     "data": {
      "text/plain": [
       "5.8939652194194085"
      ]
     },
     "execution_count": 8,
     "metadata": {},
     "output_type": "execute_result"
    }
   ],
   "source": [
    "avg(x)"
   ]
  },
  {
   "cell_type": "code",
   "execution_count": 10,
   "metadata": {},
   "outputs": [
    {
     "data": {
      "text/plain": [
       "1.1379514181590287"
      ]
     },
     "execution_count": 10,
     "metadata": {},
     "output_type": "execute_result"
    }
   ],
   "source": [
    "min(x)"
   ]
  },
  {
   "cell_type": "code",
   "execution_count": 11,
   "metadata": {},
   "outputs": [
    {
     "data": {
      "text/plain": [
       "9.785287182615168"
      ]
     },
     "execution_count": 11,
     "metadata": {},
     "output_type": "execute_result"
    }
   ],
   "source": [
    "max(x)"
   ]
  },
  {
   "cell_type": "code",
   "execution_count": null,
   "metadata": {},
   "outputs": [],
   "source": []
  }
 ],
 "metadata": {
  "kernelspec": {
   "display_name": "Python 3",
   "language": "python",
   "name": "python3"
  },
  "language_info": {
   "codemirror_mode": {
    "name": "ipython",
    "version": 3
   },
   "file_extension": ".py",
   "mimetype": "text/x-python",
   "name": "python",
   "nbconvert_exporter": "python",
   "pygments_lexer": "ipython3",
   "version": "3.7.3"
  }
 },
 "nbformat": 4,
 "nbformat_minor": 2
}

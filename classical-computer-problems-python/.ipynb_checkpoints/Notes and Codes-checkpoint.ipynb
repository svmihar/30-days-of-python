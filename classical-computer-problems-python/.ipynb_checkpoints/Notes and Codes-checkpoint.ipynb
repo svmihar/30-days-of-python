{
 "cells": [
  {
   "cell_type": "markdown",
   "metadata": {},
   "source": [
    "# Chapter 1"
   ]
  },
  {
   "cell_type": "markdown",
   "metadata": {},
   "source": [
    "## 1.1 Fibonacci Sequence\n",
    "0,1,1,2,3,5,8,13"
   ]
  },
  {
   "cell_type": "code",
   "execution_count": 9,
   "metadata": {},
   "outputs": [],
   "source": [
    "\n",
    "\n",
    "\n",
    "# this makes infinite recursion :(\n",
    "def fib1 (n:int) -> int: \n",
    "    return fib1(n-1) + fib1(n-2)\n",
    "\n",
    "\n",
    "def fib2 (n:int) -> int: \n",
    "    if n < 2: \n",
    "        return n \n",
    "    return fib2(n-1) + fib2(n-2)"
   ]
  },
  {
   "cell_type": "code",
   "execution_count": 10,
   "metadata": {},
   "outputs": [
    {
     "data": {
      "text/plain": [
       "55"
      ]
     },
     "execution_count": 10,
     "metadata": {},
     "output_type": "execute_result"
    }
   ],
   "source": [
    "fib2(10)"
   ]
  },
  {
   "cell_type": "markdown",
   "metadata": {},
   "source": [
    "## 1.2 Memoization\n",
    "singkatnya hanya bikin caching (compile as you type kind of thing) "
   ]
  },
  {
   "cell_type": "code",
   "execution_count": 11,
   "metadata": {},
   "outputs": [],
   "source": [
    "from typing import Dict\n",
    "memo: Dict[int, int] = {0:0,1:1}\n",
    "\n",
    "def fib3(n:int) -> int:\n",
    "    if n not in memo: \n",
    "        memo[n] = fib3(n-1) + fib3(n-2)\n",
    "    return memo[n]"
   ]
  },
  {
   "cell_type": "code",
   "execution_count": 12,
   "metadata": {},
   "outputs": [
    {
     "name": "stdout",
     "output_type": "stream",
     "text": [
      "5\n"
     ]
    }
   ],
   "source": [
    "print(fib3(5))"
   ]
  },
  {
   "cell_type": "markdown",
   "metadata": {},
   "source": [
    "using `lru_cache`"
   ]
  },
  {
   "cell_type": "code",
   "execution_count": 15,
   "metadata": {},
   "outputs": [],
   "source": [
    "from functools import lru_cache\n",
    "\n",
    "@lru_cache(maxsize=None)\n",
    "def fib4(n:int)->int: \n",
    "    if n<2: \n",
    "        return n\n",
    "    return fib4(n-2) + fib4(n-1)"
   ]
  },
  {
   "cell_type": "code",
   "execution_count": 18,
   "metadata": {},
   "outputs": [
    {
     "name": "stdout",
     "output_type": "stream",
     "text": [
      "0\n",
      "1\n",
      "1\n",
      "2\n",
      "3\n",
      "5\n",
      "8\n",
      "13\n",
      "21\n",
      "34\n",
      "55\n",
      "89\n",
      "144\n",
      "233\n",
      "377\n",
      "610\n",
      "987\n",
      "1597\n",
      "2584\n",
      "4181\n",
      "6765\n",
      "10946\n",
      "17711\n",
      "28657\n",
      "46368\n",
      "75025\n",
      "121393\n",
      "196418\n",
      "317811\n",
      "514229\n",
      "832040\n",
      "1346269\n",
      "2178309\n",
      "3524578\n",
      "5702887\n",
      "9227465\n",
      "14930352\n",
      "24157817\n",
      "39088169\n",
      "63245986\n",
      "102334155\n",
      "165580141\n",
      "267914296\n",
      "433494437\n",
      "701408733\n",
      "1134903170\n",
      "1836311903\n",
      "2971215073\n",
      "4807526976\n",
      "7778742049\n",
      "12586269025\n",
      "20365011074\n",
      "32951280099\n",
      "53316291173\n",
      "86267571272\n",
      "139583862445\n",
      "225851433717\n",
      "365435296162\n",
      "591286729879\n",
      "956722026041\n",
      "1548008755920\n",
      "2504730781961\n",
      "4052739537881\n",
      "6557470319842\n",
      "10610209857723\n",
      "17167680177565\n",
      "27777890035288\n",
      "44945570212853\n",
      "72723460248141\n",
      "117669030460994\n",
      "190392490709135\n",
      "308061521170129\n",
      "498454011879264\n",
      "806515533049393\n",
      "1304969544928657\n",
      "2111485077978050\n",
      "3416454622906707\n",
      "5527939700884757\n",
      "8944394323791464\n",
      "14472334024676221\n",
      "23416728348467685\n",
      "37889062373143906\n",
      "61305790721611591\n",
      "99194853094755497\n",
      "160500643816367088\n",
      "259695496911122585\n",
      "420196140727489673\n",
      "679891637638612258\n",
      "1100087778366101931\n",
      "1779979416004714189\n",
      "2880067194370816120\n",
      "4660046610375530309\n",
      "7540113804746346429\n",
      "12200160415121876738\n",
      "19740274219868223167\n",
      "31940434634990099905\n",
      "51680708854858323072\n",
      "83621143489848422977\n",
      "135301852344706746049\n",
      "218922995834555169026\n",
      "script run for 0.002000093460083008\n"
     ]
    }
   ],
   "source": [
    "import time\n",
    "\n",
    "start = time.time()\n",
    "for i in range(100): \n",
    "    print(fib4(i))\n",
    "print(f'script run for {time.time()-start}')"
   ]
  },
  {
   "cell_type": "code",
   "execution_count": 19,
   "metadata": {},
   "outputs": [],
   "source": [
    "# solving with iterative approach\n",
    "def fib5(n:int)->int:\n",
    "    if n==0: return n \n",
    "    last: int = 0\n",
    "    next: int = 1\n",
    "    for _ in range(1,n):\n",
    "        last,next = next, last+next\n",
    "    return next"
   ]
  },
  {
   "cell_type": "code",
   "execution_count": 21,
   "metadata": {},
   "outputs": [
    {
     "name": "stdout",
     "output_type": "stream",
     "text": [
      "0\n",
      "1\n",
      "1\n",
      "2\n",
      "3\n",
      "5\n",
      "8\n",
      "13\n",
      "21\n",
      "34\n",
      "55\n",
      "89\n",
      "144\n",
      "233\n",
      "377\n",
      "610\n",
      "987\n",
      "1597\n",
      "2584\n",
      "4181\n",
      "6765\n",
      "10946\n",
      "17711\n",
      "28657\n",
      "46368\n",
      "75025\n",
      "121393\n",
      "196418\n",
      "317811\n",
      "514229\n",
      "832040\n",
      "1346269\n",
      "2178309\n",
      "3524578\n",
      "5702887\n",
      "9227465\n",
      "14930352\n",
      "24157817\n",
      "39088169\n",
      "63245986\n",
      "102334155\n",
      "165580141\n",
      "267914296\n",
      "433494437\n",
      "701408733\n",
      "1134903170\n",
      "1836311903\n",
      "2971215073\n",
      "4807526976\n",
      "7778742049\n",
      "12586269025\n",
      "20365011074\n",
      "32951280099\n",
      "53316291173\n",
      "86267571272\n",
      "139583862445\n",
      "225851433717\n",
      "365435296162\n",
      "591286729879\n",
      "956722026041\n",
      "1548008755920\n",
      "2504730781961\n",
      "4052739537881\n",
      "6557470319842\n",
      "10610209857723\n",
      "17167680177565\n",
      "27777890035288\n",
      "44945570212853\n",
      "72723460248141\n",
      "117669030460994\n",
      "190392490709135\n",
      "308061521170129\n",
      "498454011879264\n",
      "806515533049393\n",
      "1304969544928657\n",
      "2111485077978050\n",
      "3416454622906707\n",
      "5527939700884757\n",
      "8944394323791464\n",
      "14472334024676221\n",
      "23416728348467685\n",
      "37889062373143906\n",
      "61305790721611591\n",
      "99194853094755497\n",
      "160500643816367088\n",
      "259695496911122585\n",
      "420196140727489673\n",
      "679891637638612258\n",
      "1100087778366101931\n",
      "1779979416004714189\n",
      "2880067194370816120\n",
      "4660046610375530309\n",
      "7540113804746346429\n",
      "12200160415121876738\n",
      "19740274219868223167\n",
      "31940434634990099905\n",
      "51680708854858323072\n",
      "83621143489848422977\n",
      "135301852344706746049\n",
      "218922995834555169026\n",
      "script run for 0.0030002593994140625\n"
     ]
    }
   ],
   "source": [
    "start = time.time()\n",
    "for i in range(100): \n",
    "    print(fib5(i))\n",
    "print(f'script run for {time.time()-start}')"
   ]
  },
  {
   "cell_type": "code",
   "execution_count": 22,
   "metadata": {},
   "outputs": [],
   "source": [
    "# using generator\n",
    "from typing import Generator\n",
    "\n",
    "def fib6(n: int)-> Generator[int, None, None]: \n",
    "    yield 0\n",
    "    if n>0: yield 1\n",
    "    last: int = 0\n",
    "    next: int = 1\n",
    "    for _ in range(1,n):\n",
    "        last, next = next, last+next\n",
    "        yield next\n"
   ]
  },
  {
   "cell_type": "code",
   "execution_count": 23,
   "metadata": {},
   "outputs": [
    {
     "name": "stdout",
     "output_type": "stream",
     "text": [
      "<generator object fib6 at 0x0000000005F2DBF8>\n",
      "<generator object fib6 at 0x0000000005F2DBF8>\n",
      "<generator object fib6 at 0x0000000005F2DBF8>\n",
      "<generator object fib6 at 0x0000000005F2DBF8>\n",
      "<generator object fib6 at 0x0000000005F2DBF8>\n",
      "<generator object fib6 at 0x0000000005F2DBF8>\n",
      "<generator object fib6 at 0x0000000005F2DBF8>\n",
      "<generator object fib6 at 0x0000000005F2DBF8>\n",
      "<generator object fib6 at 0x0000000005F2DBF8>\n",
      "<generator object fib6 at 0x0000000005F2DBF8>\n",
      "<generator object fib6 at 0x0000000005F2DBF8>\n",
      "<generator object fib6 at 0x0000000005F2DBF8>\n",
      "<generator object fib6 at 0x0000000005F2DBF8>\n",
      "<generator object fib6 at 0x0000000005F2DBF8>\n",
      "<generator object fib6 at 0x0000000005F2DBF8>\n",
      "<generator object fib6 at 0x0000000005F2DBF8>\n",
      "<generator object fib6 at 0x0000000005F2DBF8>\n",
      "<generator object fib6 at 0x0000000005F2DBF8>\n",
      "<generator object fib6 at 0x0000000005F2DBF8>\n",
      "<generator object fib6 at 0x0000000005F2DBF8>\n",
      "<generator object fib6 at 0x0000000005F2DBF8>\n",
      "<generator object fib6 at 0x0000000005F2DBF8>\n",
      "<generator object fib6 at 0x0000000005F2DBF8>\n",
      "<generator object fib6 at 0x0000000005F2DBF8>\n",
      "<generator object fib6 at 0x0000000005F2DBF8>\n",
      "<generator object fib6 at 0x0000000005F2DBF8>\n",
      "<generator object fib6 at 0x0000000005F2DBF8>\n",
      "<generator object fib6 at 0x0000000005F2DBF8>\n",
      "<generator object fib6 at 0x0000000005F2DBF8>\n",
      "<generator object fib6 at 0x0000000005F2DBF8>\n",
      "<generator object fib6 at 0x0000000005F2DBF8>\n",
      "<generator object fib6 at 0x0000000005F2DBF8>\n",
      "<generator object fib6 at 0x0000000005F2DBF8>\n",
      "<generator object fib6 at 0x0000000005F2DBF8>\n",
      "<generator object fib6 at 0x0000000005F2DBF8>\n",
      "<generator object fib6 at 0x0000000005F2DBF8>\n",
      "<generator object fib6 at 0x0000000005F2DBF8>\n",
      "<generator object fib6 at 0x0000000005F2DBF8>\n",
      "<generator object fib6 at 0x0000000005F2DBF8>\n",
      "<generator object fib6 at 0x0000000005F2DBF8>\n",
      "<generator object fib6 at 0x0000000005F2DBF8>\n",
      "<generator object fib6 at 0x0000000005F2DBF8>\n",
      "<generator object fib6 at 0x0000000005F2DBF8>\n",
      "<generator object fib6 at 0x0000000005F2DBF8>\n",
      "<generator object fib6 at 0x0000000005F2DBF8>\n",
      "<generator object fib6 at 0x0000000005F2DBF8>\n",
      "<generator object fib6 at 0x0000000005F2DBF8>\n",
      "<generator object fib6 at 0x0000000005F2DBF8>\n",
      "<generator object fib6 at 0x0000000005F2DBF8>\n",
      "<generator object fib6 at 0x0000000005F2DBF8>\n",
      "<generator object fib6 at 0x0000000005F2DBF8>\n",
      "<generator object fib6 at 0x0000000005F2DBF8>\n",
      "<generator object fib6 at 0x0000000005F2DBF8>\n",
      "<generator object fib6 at 0x0000000005F2DBF8>\n",
      "<generator object fib6 at 0x0000000005F2DBF8>\n",
      "<generator object fib6 at 0x0000000005F2DBF8>\n",
      "<generator object fib6 at 0x0000000005F2DBF8>\n",
      "<generator object fib6 at 0x0000000005F2DBF8>\n",
      "<generator object fib6 at 0x0000000005F2DBF8>\n",
      "<generator object fib6 at 0x0000000005F2DBF8>\n",
      "<generator object fib6 at 0x0000000005F2DBF8>\n",
      "<generator object fib6 at 0x0000000005F2DBF8>\n",
      "<generator object fib6 at 0x0000000005F2DBF8>\n",
      "<generator object fib6 at 0x0000000005F2DBF8>\n",
      "<generator object fib6 at 0x0000000005F2DBF8>\n",
      "<generator object fib6 at 0x0000000005F2DBF8>\n",
      "<generator object fib6 at 0x0000000005F2DBF8>\n",
      "<generator object fib6 at 0x0000000005F2DBF8>\n",
      "<generator object fib6 at 0x0000000005F2DBF8>\n",
      "<generator object fib6 at 0x0000000005F2DBF8>\n",
      "<generator object fib6 at 0x0000000005F2DBF8>\n",
      "<generator object fib6 at 0x0000000005F2DBF8>\n",
      "<generator object fib6 at 0x0000000005F2DBF8>\n",
      "<generator object fib6 at 0x0000000005F2DBF8>\n",
      "<generator object fib6 at 0x0000000005F2DBF8>\n",
      "<generator object fib6 at 0x0000000005F2DBF8>\n",
      "<generator object fib6 at 0x0000000005F2DBF8>\n",
      "<generator object fib6 at 0x0000000005F2DBF8>\n",
      "<generator object fib6 at 0x0000000005F2DBF8>\n",
      "<generator object fib6 at 0x0000000005F2DBF8>\n",
      "<generator object fib6 at 0x0000000005F2DBF8>\n",
      "<generator object fib6 at 0x0000000005F2DBF8>\n",
      "<generator object fib6 at 0x0000000005F2DBF8>\n",
      "<generator object fib6 at 0x0000000005F2DBF8>\n",
      "<generator object fib6 at 0x0000000005F2DBF8>\n",
      "<generator object fib6 at 0x0000000005F2DBF8>\n",
      "<generator object fib6 at 0x0000000005F2DBF8>\n",
      "<generator object fib6 at 0x0000000005F2DBF8>\n",
      "<generator object fib6 at 0x0000000005F2DBF8>\n",
      "<generator object fib6 at 0x0000000005F2DBF8>\n",
      "<generator object fib6 at 0x0000000005F2DBF8>\n",
      "<generator object fib6 at 0x0000000005F2DBF8>\n",
      "<generator object fib6 at 0x0000000005F2DBF8>\n",
      "<generator object fib6 at 0x0000000005F2DBF8>\n",
      "<generator object fib6 at 0x0000000005F2DBF8>\n",
      "<generator object fib6 at 0x0000000005F2DBF8>\n",
      "<generator object fib6 at 0x0000000005EB72B0>\n",
      "<generator object fib6 at 0x0000000005EB72B0>\n",
      "<generator object fib6 at 0x0000000005EB72B0>\n",
      "<generator object fib6 at 0x0000000005EB72B0>\n",
      "script run for 0.004000186920166016\n"
     ]
    }
   ],
   "source": [
    "start = time.time()\n",
    "for i in range(100): \n",
    "    print(fib6(i))\n",
    "print(f'script run for {time.time()-start}')"
   ]
  },
  {
   "cell_type": "markdown",
   "metadata": {},
   "source": [
    "## Compression \n",
    "int -> byte"
   ]
  },
  {
   "cell_type": "code",
   "execution_count": 1,
   "metadata": {},
   "outputs": [],
   "source": [
    "# skip"
   ]
  },
  {
   "cell_type": "markdown",
   "metadata": {},
   "source": [
    "## 1.4 Calculating pi\n",
    "using leibniz's"
   ]
  },
  {
   "cell_type": "code",
   "execution_count": 10,
   "metadata": {},
   "outputs": [],
   "source": [
    "def calc_pi(berapa_kali: int) -> float: \n",
    "    num: float = 4.0\n",
    "    den: float = 1.0\n",
    "    operation: float = 1.0\n",
    "    pi = 0\n",
    "    for i in range(berapa_kali):\n",
    "        pi += operation * (num/den)\n",
    "        den += 2.0\n",
    "        num *= -1.0\n",
    "    return pi\n"
   ]
  },
  {
   "cell_type": "code",
   "execution_count": null,
   "metadata": {},
   "outputs": [],
   "source": [
    "print(calc_pi(10000000))"
   ]
  },
  {
   "cell_type": "code",
   "execution_count": 11,
   "metadata": {},
   "outputs": [
    {
     "name": "stdout",
     "output_type": "stream",
     "text": [
      "1.41 s ± 41.5 ms per loop (mean ± std. dev. of 7 runs, 1 loop each)\n"
     ]
    }
   ],
   "source": [
    "%timeit calc_pi(10000000)"
   ]
  },
  {
   "cell_type": "markdown",
   "metadata": {},
   "source": [
    "## 1.5 Hanoi Tower\n",
    "using stack, LIFO.\n",
    "push, pop \n",
    "make stack using list.     \n",
    "\n",
    "repr is just a glorified print function inside `Stack` class"
   ]
  },
  {
   "cell_type": "code",
   "execution_count": 26,
   "metadata": {},
   "outputs": [],
   "source": [
    "class Stack(): \n",
    "    def __init__(self): \n",
    "        self._container: List() = []\n",
    "    def push(self, item): \n",
    "        self._container.append(item)\n",
    "    def pop(self): \n",
    "        return self._container.pop()\n",
    "    def __repr__(self): \n",
    "        return repr(self._container)"
   ]
  },
  {
   "cell_type": "markdown",
   "metadata": {},
   "source": [
    "solving algorithm: \n",
    "1. pindah n-1 disc ke tower c\n",
    "2. pindah disc ke-n ke tower b\n",
    "3. pindah n-1 disc dari tower c ke tower b\n",
    "selesai. "
   ]
  },
  {
   "cell_type": "code",
   "execution_count": 42,
   "metadata": {},
   "outputs": [],
   "source": [
    "def hanoi(begin, end, temp, n): \n",
    "    if n==1: \n",
    "        end.push(begin.pop()) #added the last element of begin stack to end stack.\n",
    "    else: \n",
    "        hanoi(begin, temp, end, n-1)\n",
    "        hanoi(begin, end, temp, 1)\n",
    "        hanoi(temp, end, begin, n-1)\n",
    "def cek(tower_a, tower_b, tower_c):\n",
    "    print(tower_a)\n",
    "    print(tower_b)\n",
    "    print(tower_c)"
   ]
  },
  {
   "cell_type": "code",
   "execution_count": 45,
   "metadata": {},
   "outputs": [
    {
     "name": "stdout",
     "output_type": "stream",
     "text": [
      "[1, 2, 3]\n",
      "[]\n",
      "[]\n"
     ]
    }
   ],
   "source": [
    "tower_a = Stack()\n",
    "tower_b = Stack()\n",
    "tower_c = Stack()\n",
    "disc = 3\n",
    "for i in range(1,disc+1): \n",
    "    tower_a.push(i)\n",
    "cek(tower_a, tower_b, tower_c)"
   ]
  },
  {
   "cell_type": "code",
   "execution_count": 46,
   "metadata": {},
   "outputs": [],
   "source": [
    "hanoi(tower_a, tower_c, tower_b, disc)"
   ]
  },
  {
   "cell_type": "code",
   "execution_count": 47,
   "metadata": {},
   "outputs": [
    {
     "name": "stdout",
     "output_type": "stream",
     "text": [
      "[]\n",
      "[]\n",
      "[1, 2, 3]\n"
     ]
    }
   ],
   "source": [
    "cek(tower_a, tower_b, tower_c)"
   ]
  },
  {
   "cell_type": "markdown",
   "metadata": {},
   "source": [
    "# Chapter 2: Search Problems"
   ]
  },
  {
   "cell_type": "code",
   "execution_count": 1,
   "metadata": {},
   "outputs": [
    {
     "name": "stdout",
     "output_type": "stream",
     "text": [
      "<enum 'Nucletoide'>\n"
     ]
    }
   ],
   "source": [
    "#int enum \n",
    "from enum import IntEnum \n",
    "from typing import List, Tuple\n",
    "\n",
    "nuc = IntEnum('Nucletoide',('A', 'C', 'T','G'))\n",
    "print(nuc)\n",
    "            "
   ]
  },
  {
   "cell_type": "code",
   "execution_count": 2,
   "metadata": {},
   "outputs": [],
   "source": [
    "# defining codon and gene data type \n",
    "Codon = Tuple[nuc, nuc, nuc]\n",
    "Gene = List[Codon]\n"
   ]
  },
  {
   "cell_type": "code",
   "execution_count": 14,
   "metadata": {},
   "outputs": [],
   "source": [
    "# converting string to gene\n",
    "# every 3 char is 1 codon\n",
    "\n",
    "def string_to_gene(s: str): \n",
    "    gene: Gene = []\n",
    "    for i in range(0, len(s)+1,3): \n",
    "        if (i+2) >= len(s): \n",
    "            return gene \n",
    "        codon: Codon = (nuc[s[i]], nuc[s[i+1]], nuc[s[i+2]])\n",
    "        gene.append(codon)\n",
    "    return gene"
   ]
  },
  {
   "cell_type": "code",
   "execution_count": 15,
   "metadata": {},
   "outputs": [
    {
     "data": {
      "text/plain": [
       "30"
      ]
     },
     "execution_count": 15,
     "metadata": {},
     "output_type": "execute_result"
    }
   ],
   "source": [
    "str_gene = \"ACTGACTGACATATTAAATCAGATCGAATA\"\n",
    "len(str_gene)"
   ]
  },
  {
   "cell_type": "code",
   "execution_count": 17,
   "metadata": {},
   "outputs": [],
   "source": [
    "my_gene = (string_to_gene(str_gene))"
   ]
  },
  {
   "cell_type": "markdown",
   "metadata": {},
   "source": [
    "### linear search \n",
    "implements the `__contains__` from list function "
   ]
  },
  {
   "cell_type": "code",
   "execution_count": 18,
   "metadata": {},
   "outputs": [],
   "source": [
    "def linear_search(gene, key): \n",
    "    for codon in gene: \n",
    "        if codon == key: \n",
    "            return True\n",
    "    return False"
   ]
  },
  {
   "cell_type": "code",
   "execution_count": 19,
   "metadata": {},
   "outputs": [],
   "source": [
    "acg = (nuc.A, nuc.C, nuc.G)\n",
    "ata = (nuc.A, nuc.T, nuc.A)"
   ]
  },
  {
   "cell_type": "code",
   "execution_count": 21,
   "metadata": {},
   "outputs": [
    {
     "name": "stdout",
     "output_type": "stream",
     "text": [
      "True\n",
      "False\n"
     ]
    }
   ],
   "source": [
    "print(linear_search(my_gene, ata))\n",
    "print(linear_search(my_gene, acg))"
   ]
  },
  {
   "cell_type": "markdown",
   "metadata": {},
   "source": [
    "### binary search \n",
    "1. sort\n",
    "2. cari nilai tengah \n",
    "3. repeat 1&2 until ketemu value yang diinginkan"
   ]
  },
  {
   "cell_type": "code",
   "execution_count": 27,
   "metadata": {},
   "outputs": [],
   "source": [
    "def binary_search(gene, key): \n",
    "    gene = sorted(gene)\n",
    "    low, high = 0, len(gene)-1\n",
    "    while low <= high: # search whenever there's still a range within \n",
    "        mid = (low+high)//2\n",
    "        if gene[mid] < key: \n",
    "            low = mid + 1\n",
    "        elif gene[mid] > key: \n",
    "            high = mid -1 \n",
    "        else: \n",
    "            return True\n",
    "    return False"
   ]
  },
  {
   "cell_type": "code",
   "execution_count": 28,
   "metadata": {},
   "outputs": [
    {
     "name": "stdout",
     "output_type": "stream",
     "text": [
      "True\n",
      "False\n"
     ]
    }
   ],
   "source": [
    "print(binary_search(my_gene, ata))\n",
    "print(binary_search(my_gene, acg))"
   ]
  },
  {
   "cell_type": "markdown",
   "metadata": {},
   "source": [
    "### maze solving: pathfinding\n"
   ]
  },
  {
   "cell_type": "markdown",
   "metadata": {},
   "source": [
    "#### generating the maze attributes"
   ]
  },
  {
   "cell_type": "code",
   "execution_count": 38,
   "metadata": {},
   "outputs": [],
   "source": [
    "from enum import Enum\n",
    "from typing import List, NamedTuple, Callable, Optional\n",
    "import random \n",
    "from math import sqrt \n",
    "\n",
    "class Cell(str, Enum): \n",
    "    EMPTY = \" \"\n",
    "    BLOCKED = \"X\"\n",
    "    START = \"S\"\n",
    "    END = 'E'\n",
    "    PATH = \"*\"\n",
    "\n",
    "class MazeLocation(NamedTuple): \n",
    "    row: int\n",
    "    column: int"
   ]
  },
  {
   "cell_type": "markdown",
   "metadata": {},
   "source": [
    "####  generating the random maze"
   ]
  },
  {
   "cell_type": "code",
   "execution_count": 49,
   "metadata": {},
   "outputs": [],
   "source": [
    "class Maze: \n",
    "    def __init__(self, rows = 10, columns = 10, sparseness = 0.2, start = MazeLocation(0,0), end = MazeLocation(9,9)) :\n",
    "        self._rows = rows\n",
    "        self._columns = columns\n",
    "        self.start = start\n",
    "        self.end = end\n",
    "        \n",
    "        #fill grid with empty elements\n",
    "        self._grid = [[Cell.EMPTY for c in range(columns)] for r in range(rows)]\n",
    "\n",
    "        #populate with blocked cells\n",
    "        self._random_fill(rows, columns, sparseness)\n",
    "\n",
    "        #fill the start and location \n",
    "        self._grid[start.row][start.column] = Cell.START\n",
    "        self._grid[end.row][end.column] = Cell.END\n",
    "    \n",
    "    def _random_fill(self, rows, columns, sparseness): \n",
    "        for row in range(rows): \n",
    "            for column in range(columns):\n",
    "                if random.uniform(0,1.0) < sparseness: \n",
    "                    self._grid[row][column] = Cell.BLOCKED\n",
    "                    \n",
    "                    \n",
    "    def successor(self, ml): \n",
    "        locations: List[MazeLocation] = []\n",
    "        if ml.row + 1 < self._rows and self._grid[ml.row + 1][ml.column] != Cell.BLOCKED: \n",
    "            locations.append(MazeLocation(ml.row + 1, ml.column))\n",
    "        if ml.row - 1 >= 0 and self._grid[ml.row - 1][ml.column] != Cell.BLOCKED: \n",
    "            locations.append(MazeLocation(ml.row-1, ml.column))\n",
    "        if ml.column + 1 <self._columns and self._grid[ml.row][ml.column + 1] != Cell.BLOCKED: \n",
    "            locations.append(MazeLocation(ml.row, ml.column+1))\n",
    "        if ml.column -1 >= 0 and self._grid[ml.row][ml.column-1] != Cell.BLOCKED: \n",
    "            locations.append(MazeLocation(ml.row,ml.column-1))\n",
    "        return locations\n",
    "                    \n",
    "        \n",
    "\n",
    "    def end_test(self, ml): \n",
    "        \"\"\"\n",
    "        Checks if end is reached\n",
    "        \"\"\"\n",
    "        return ml == self.goal\n",
    "    \n",
    "\n",
    "    def __str__(self): \n",
    "        \"\"\"\n",
    "        Checks if the path is blocked or not by checking below, above, to the right and to the left of a maze, kalo ada kosong berarti bisa diisi, kalo gak ya berarti itu gak bisa. ya apa sih. \n",
    "        \"\"\"\n",
    "        output = \"\"\n",
    "        for row in self._grid: \n",
    "            output += \"\".join([c.value for c in row]) + '\\n' \n",
    "        return output"
   ]
  },
  {
   "cell_type": "code",
   "execution_count": 46,
   "metadata": {},
   "outputs": [
    {
     "name": "stdout",
     "output_type": "stream",
     "text": [
      "S         \n",
      "X  X    X \n",
      "          \n",
      "X X  X X  \n",
      "  X       \n",
      "  X    XX \n",
      "   X      \n",
      " X XX    X\n",
      "    X     \n",
      "      X  E\n",
      "\n"
     ]
    }
   ],
   "source": [
    "maze = Maze()\n",
    "print(maze)"
   ]
  },
  {
   "cell_type": "code",
   "execution_count": null,
   "metadata": {},
   "outputs": [],
   "source": [
    "\n"
   ]
  }
 ],
 "metadata": {
  "kernelspec": {
   "display_name": "Python 3",
   "language": "python",
   "name": "python3"
  },
  "language_info": {
   "codemirror_mode": {
    "name": "ipython",
    "version": 3
   },
   "file_extension": ".py",
   "mimetype": "text/x-python",
   "name": "python",
   "nbconvert_exporter": "python",
   "pygments_lexer": "ipython3",
   "version": "3.7.3"
  }
 },
 "nbformat": 4,
 "nbformat_minor": 2
}

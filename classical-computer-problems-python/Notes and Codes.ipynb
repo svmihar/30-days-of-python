{
 "cells": [
  {
   "cell_type": "markdown",
   "metadata": {},
   "source": [
    "# Chapter 1"
   ]
  },
  {
   "cell_type": "markdown",
   "metadata": {},
   "source": [
    "## 1.1 Fibonacci Sequence\n",
    "0,1,1,2,3,5,8,13"
   ]
  },
  {
   "cell_type": "code",
   "execution_count": null,
   "metadata": {},
   "outputs": [],
   "source": [
    "# this makes infinite recursion :(\n",
    "def fib1 (n:int) -> int: \n",
    "    return fib1(n-1) + fib1(n-2)\n",
    "\n",
    "\n",
    "def fib2 (n:int) -> int: \n",
    "    if n < 2: \n",
    "        return n \n",
    "    return fib2(n-1) + fib2(n-2)"
   ]
  },
  {
   "cell_type": "code",
   "execution_count": null,
   "metadata": {},
   "outputs": [],
   "source": [
    "fib2(10)"
   ]
  },
  {
   "cell_type": "markdown",
   "metadata": {},
   "source": [
    "## 1.2 Memoization\n",
    "singkatnya hanya bikin caching (compile as you type kind of thing) "
   ]
  },
  {
   "cell_type": "code",
   "execution_count": null,
   "metadata": {},
   "outputs": [],
   "source": [
    "from typing import Dict\n",
    "memo: Dict[int, int] = {0:0,1:1}\n",
    "\n",
    "def fib3(n:int) -> int:\n",
    "    if n not in memo: \n",
    "        memo[n] = fib3(n-1) + fib3(n-2)\n",
    "    return memo[n]"
   ]
  },
  {
   "cell_type": "code",
   "execution_count": null,
   "metadata": {},
   "outputs": [],
   "source": [
    "print(fib3(5))"
   ]
  },
  {
   "cell_type": "markdown",
   "metadata": {},
   "source": [
    "using `lru_cache`"
   ]
  },
  {
   "cell_type": "code",
   "execution_count": null,
   "metadata": {},
   "outputs": [],
   "source": [
    "from functools import lru_cache\n",
    "\n",
    "@lru_cache(maxsize=None)\n",
    "def fib4(n:int)->int: \n",
    "    if n<2: \n",
    "        return n\n",
    "    return fib4(n-2) + fib4(n-1)"
   ]
  },
  {
   "cell_type": "code",
   "execution_count": null,
   "metadata": {},
   "outputs": [],
   "source": [
    "import time\n",
    "\n",
    "start = time.time()\n",
    "for i in range(100): \n",
    "    print(fib4(i))\n",
    "print(f'script run for {time.time()-start}')"
   ]
  },
  {
   "cell_type": "code",
   "execution_count": null,
   "metadata": {},
   "outputs": [],
   "source": [
    "# solving with iterative approach\n",
    "def fib5(n:int)->int:\n",
    "    if n==0: return n \n",
    "    last: int = 0\n",
    "    next: int = 1\n",
    "    for _ in range(1,n):\n",
    "        last,next = next, last+next\n",
    "    return next"
   ]
  },
  {
   "cell_type": "code",
   "execution_count": null,
   "metadata": {},
   "outputs": [],
   "source": [
    "start = time.time()\n",
    "for i in range(100): \n",
    "    print(fib5(i))\n",
    "print(f'script run for {time.time()-start}')"
   ]
  },
  {
   "cell_type": "code",
   "execution_count": null,
   "metadata": {},
   "outputs": [],
   "source": [
    "# using generator\n",
    "from typing import Generator\n",
    "\n",
    "def fib6(n: int)-> Generator[int, None, None]: \n",
    "    yield 0\n",
    "    if n>0: yield 1\n",
    "    last: int = 0\n",
    "    next: int = 1\n",
    "    for _ in range(1,n):\n",
    "        last, next = next, last+next\n",
    "        yield next\n"
   ]
  },
  {
   "cell_type": "code",
   "execution_count": null,
   "metadata": {},
   "outputs": [],
   "source": [
    "start = time.time()\n",
    "for i in range(100): \n",
    "    print(fib6(i))\n",
    "print(f'script run for {time.time()-start}')"
   ]
  },
  {
   "cell_type": "markdown",
   "metadata": {},
   "source": [
    "## Compression \n",
    "int -> byte"
   ]
  },
  {
   "cell_type": "code",
   "execution_count": null,
   "metadata": {},
   "outputs": [],
   "source": [
    "# skip"
   ]
  },
  {
   "cell_type": "markdown",
   "metadata": {},
   "source": [
    "## 1.4 Calculating pi\n",
    "using leibniz's"
   ]
  },
  {
   "cell_type": "code",
   "execution_count": null,
   "metadata": {},
   "outputs": [],
   "source": [
    "def calc_pi(berapa_kali: int) -> float: \n",
    "    num: float = 4.0\n",
    "    den: float = 1.0\n",
    "    operation: float = 1.0\n",
    "    pi = 0\n",
    "    for i in range(berapa_kali):\n",
    "        pi += operation * (num/den)\n",
    "        den += 2.0\n",
    "        num *= -1.0\n",
    "    return pi\n"
   ]
  },
  {
   "cell_type": "code",
   "execution_count": null,
   "metadata": {},
   "outputs": [],
   "source": [
    "print(calc_pi(10000000))"
   ]
  },
  {
   "cell_type": "code",
   "execution_count": null,
   "metadata": {},
   "outputs": [],
   "source": [
    "%timeit calc_pi(10000000)"
   ]
  },
  {
   "cell_type": "markdown",
   "metadata": {},
   "source": [
    "## 1.5 Hanoi Tower\n",
    "using stack, LIFO.\n",
    "push, pop \n",
    "make stack using list.     \n",
    "\n",
    "repr is just a glorified print function inside `Stack` class"
   ]
  },
  {
   "cell_type": "code",
   "execution_count": null,
   "metadata": {},
   "outputs": [],
   "source": [
    "class Stack(): \n",
    "    def __init__(self): \n",
    "        self._container: List() = []\n",
    "    def push(self, item): \n",
    "        self._container.append(item)\n",
    "    def pop(self): \n",
    "        return self._container.pop()\n",
    "    def __repr__(self): \n",
    "        return repr(self._container)"
   ]
  },
  {
   "cell_type": "markdown",
   "metadata": {},
   "source": [
    "solving algorithm: \n",
    "1. pindah n-1 disc ke tower c\n",
    "2. pindah disc ke-n ke tower b\n",
    "3. pindah n-1 disc dari tower c ke tower b\n",
    "selesai. "
   ]
  },
  {
   "cell_type": "code",
   "execution_count": null,
   "metadata": {},
   "outputs": [],
   "source": [
    "def hanoi(begin, end, temp, n): \n",
    "    if n==1: \n",
    "        end.push(begin.pop()) #added the last element of begin stack to end stack.\n",
    "    else: \n",
    "        hanoi(begin, temp, end, n-1)\n",
    "        hanoi(begin, end, temp, 1)\n",
    "        hanoi(temp, end, begin, n-1)\n",
    "def cek(tower_a, tower_b, tower_c):\n",
    "    print(tower_a)\n",
    "    print(tower_b)\n",
    "    print(tower_c)"
   ]
  },
  {
   "cell_type": "code",
   "execution_count": null,
   "metadata": {},
   "outputs": [],
   "source": [
    "tower_a = Stack()\n",
    "tower_b = Stack()\n",
    "tower_c = Stack()\n",
    "disc = 3\n",
    "for i in range(1,disc+1): \n",
    "    tower_a.push(i)\n",
    "cek(tower_a, tower_b, tower_c)"
   ]
  },
  {
   "cell_type": "code",
   "execution_count": null,
   "metadata": {},
   "outputs": [],
   "source": [
    "hanoi(tower_a, tower_c, tower_b, disc)"
   ]
  },
  {
   "cell_type": "code",
   "execution_count": null,
   "metadata": {},
   "outputs": [],
   "source": [
    "cek(tower_a, tower_b, tower_c)"
   ]
  },
  {
   "cell_type": "markdown",
   "metadata": {},
   "source": [
    "# Chapter 2: Search Problems"
   ]
  },
  {
   "cell_type": "code",
   "execution_count": 7,
   "metadata": {},
   "outputs": [
    {
     "name": "stdout",
     "output_type": "stream",
     "text": [
      "<enum 'Nucletoide'>\n"
     ]
    }
   ],
   "source": [
    "#int enum \n",
    "from enum import IntEnum \n",
    "from typing import List, Tuple\n",
    "\n",
    "nuc = IntEnum('Nucletoide',('A', 'C', 'T','G'))\n",
    "print(nuc)\n",
    "            "
   ]
  },
  {
   "cell_type": "code",
   "execution_count": 8,
   "metadata": {},
   "outputs": [],
   "source": [
    "# defining codon and gene data type \n",
    "Codon = Tuple[nuc, nuc, nuc]\n",
    "Gene = List[Codon]\n"
   ]
  },
  {
   "cell_type": "code",
   "execution_count": 9,
   "metadata": {},
   "outputs": [],
   "source": [
    "# converting string to gene\n",
    "# every 3 char is 1 codon\n",
    "\n",
    "def string_to_gene(s: str): \n",
    "    gene: Gene = []\n",
    "    for i in range(0, len(s)+1,3): \n",
    "        if (i+2) >= len(s): \n",
    "            return gene \n",
    "        codon: Codon = (nuc[s[i]], nuc[s[i+1]], nuc[s[i+2]])\n",
    "        gene.append(codon)\n",
    "    return gene"
   ]
  },
  {
   "cell_type": "code",
   "execution_count": 10,
   "metadata": {},
   "outputs": [
    {
     "data": {
      "text/plain": [
       "30"
      ]
     },
     "execution_count": 10,
     "metadata": {},
     "output_type": "execute_result"
    }
   ],
   "source": [
    "str_gene = \"ACTGACTGACATATTAAATCAGATCGAATA\"\n",
    "len(str_gene)"
   ]
  },
  {
   "cell_type": "code",
   "execution_count": 11,
   "metadata": {},
   "outputs": [],
   "source": [
    "my_gene = (string_to_gene(str_gene))"
   ]
  },
  {
   "cell_type": "markdown",
   "metadata": {},
   "source": [
    "### linear search \n",
    "implements the `__contains__` from list function "
   ]
  },
  {
   "cell_type": "code",
   "execution_count": 12,
   "metadata": {},
   "outputs": [],
   "source": [
    "def linear_search(gene, key): \n",
    "    for codon in gene: \n",
    "        if codon == key: \n",
    "            return True\n",
    "    return False"
   ]
  },
  {
   "cell_type": "code",
   "execution_count": 13,
   "metadata": {},
   "outputs": [],
   "source": [
    "acg = (nuc.A, nuc.C, nuc.G)\n",
    "ata = (nuc.A, nuc.T, nuc.A)"
   ]
  },
  {
   "cell_type": "code",
   "execution_count": 14,
   "metadata": {},
   "outputs": [
    {
     "name": "stdout",
     "output_type": "stream",
     "text": [
      "True\n",
      "False\n"
     ]
    }
   ],
   "source": [
    "print(linear_search(my_gene, ata))\n",
    "print(linear_search(my_gene, acg))"
   ]
  },
  {
   "cell_type": "markdown",
   "metadata": {},
   "source": [
    "### binary search \n",
    "1. sort\n",
    "2. cari nilai tengah \n",
    "3. repeat 1&2 until ketemu value yang diinginkan"
   ]
  },
  {
   "cell_type": "code",
   "execution_count": 15,
   "metadata": {},
   "outputs": [],
   "source": [
    "def binary_search(gene, key): \n",
    "    gene = sorted(gene)\n",
    "    low, high = 0, len(gene)-1\n",
    "    while low <= high: # search whenever there's still a range within \n",
    "        mid = (low+high)//2\n",
    "        if gene[mid] < key: \n",
    "            low = mid + 1\n",
    "        elif gene[mid] > key: \n",
    "            high = mid -1 \n",
    "        else: \n",
    "            return True\n",
    "    return False"
   ]
  },
  {
   "cell_type": "code",
   "execution_count": 16,
   "metadata": {},
   "outputs": [
    {
     "name": "stdout",
     "output_type": "stream",
     "text": [
      "True\n",
      "False\n"
     ]
    }
   ],
   "source": [
    "print(binary_search(my_gene, ata))\n",
    "print(binary_search(my_gene, acg))"
   ]
  },
  {
   "cell_type": "markdown",
   "metadata": {},
   "source": [
    "### maze solving: pathfinding\n"
   ]
  },
  {
   "cell_type": "markdown",
   "metadata": {},
   "source": [
    "#### generating the maze attributes"
   ]
  },
  {
   "cell_type": "code",
   "execution_count": 17,
   "metadata": {},
   "outputs": [],
   "source": [
    "from enum import Enum\n",
    "from typing import List, NamedTuple, Callable, Optional\n",
    "import random \n",
    "from math import sqrt \n",
    "\n",
    "class Cell(str, Enum): \n",
    "    EMPTY = \" \"\n",
    "    BLOCKED = \"X\"\n",
    "    START = \"S\"\n",
    "    END = 'E'\n",
    "    PATH = \"*\"\n",
    "\n",
    "class MazeLocation(NamedTuple): \n",
    "    row: int\n",
    "    column: int"
   ]
  },
  {
   "cell_type": "markdown",
   "metadata": {},
   "source": [
    "####  generating the random maze"
   ]
  },
  {
   "cell_type": "code",
   "execution_count": 7,
   "metadata": {},
   "outputs": [],
   "source": [
    "from dua.scratch import *"
   ]
  },
  {
   "cell_type": "code",
   "execution_count": 8,
   "metadata": {},
   "outputs": [
    {
     "name": "stdout",
     "output_type": "stream",
     "text": [
      "S  X      \n",
      "   XX   X \n",
      "  X X     \n",
      "      XX  \n",
      "X XX      \n",
      "X        X\n",
      "          \n",
      "       X  \n",
      "   X  X   \n",
      " X X X   E\n",
      "\n"
     ]
    }
   ],
   "source": [
    "maze = Maze()\n",
    "print(maze)"
   ]
  },
  {
   "cell_type": "markdown",
   "metadata": {},
   "source": [
    "#### DFS\n",
    "Goes deep (sampe mentok) the backtracks to the closes branch.    \n",
    "DFS uses stack intensively (first in last out): \n",
    "    - `push`: places element in top of the heap \n",
    "    - `pop`: removes the top element of the heap "
   ]
  },
  {
   "cell_type": "code",
   "execution_count": 9,
   "metadata": {},
   "outputs": [
    {
     "name": "stdout",
     "output_type": "stream",
     "text": [
      "S     XX  \n",
      "       X  \n",
      "  X      X\n",
      "X X    XX \n",
      "    X     \n",
      "X   X     \n",
      "X       X \n",
      "X         \n",
      "     X X X\n",
      "X X  X   E\n",
      "\n"
     ]
    }
   ],
   "source": [
    "from dua.generic_search import dfs, node_to_path\n",
    "m = Maze()\n",
    "print(m)"
   ]
  },
  {
   "cell_type": "code",
   "execution_count": 16,
   "metadata": {},
   "outputs": [
    {
     "name": "stdout",
     "output_type": "stream",
     "text": [
      "SX        \n",
      "      X X \n",
      "X X XX    \n",
      "X     XX  \n",
      "   X   X  \n",
      " X        \n",
      "X  XXX  X \n",
      "  X     X \n",
      "XX   X   X\n",
      "   X XXX E\n",
      "\n",
      "----------\n",
      "TESTING DFS\n",
      "----------\n",
      "used 0 steps\n",
      "SX   *****\n",
      "******X X*\n",
      "X X XX  **\n",
      "X     XX* \n",
      "   X   X* \n",
      " X    *** \n",
      "X  XXX* X \n",
      "  X   **X \n",
      "XX   X **X\n",
      "   X XXX*E\n",
      "\n",
      "----------\n",
      "TESTING BFS \n",
      "----------\n",
      "SX        \n",
      "**    X X \n",
      "X*X XX    \n",
      "X*    XX  \n",
      " **X   X  \n",
      " X*****   \n",
      "X  XXX* X \n",
      "  X   * X \n",
      "XX   X***X\n",
      "   X XXX*E\n",
      "\n",
      "----------\n",
      "TESTING A*\n",
      "----------\n",
      "SX        \n",
      "****  X X \n",
      "X X*XX    \n",
      "X  ***XX  \n",
      "   X **X  \n",
      " X    **  \n",
      "X  XXX *X \n",
      "  X    *X \n",
      "XX   X **X\n",
      "   X XXX*E\n",
      "\n",
      "----------\n",
      "TESTING A* WITH EUCLIDEAN DISTANCE\n",
      "----------\n",
      "SX        \n",
      "**    X X \n",
      "X*X XX    \n",
      "X**** XX  \n",
      "   X** X  \n",
      " X   **   \n",
      "X  XXX* X \n",
      "  X   **X \n",
      "XX   X **X\n",
      "   X XXX*E\n",
      "\n"
     ]
    }
   ],
   "source": [
    "%run dua/_.py"
   ]
  },
  {
   "cell_type": "markdown",
   "metadata": {},
   "source": [
    "#### BFS\n",
    "BFS mencari seluruh persimpangan yang mungkin, basically sama seperti DFS, cuman dia memakai Queue bukan Stack.    \n",
    "Queue pake FIFO, bedanyan dengan stack adalah dia ngepop apa. Kalo stack ngepop yang paling terakhir masuk, kalo queue yang paling pertama masuk    \n",
    "ibaratnya kalo stack itu numpuk ke atas, sehingga yang bisa diambil itu dari atas, kalo queue dibikin nyamping sehingga bisa ambil yang pertama kali masuk   \n",
    "Disini BFS menggunakan `Deque()` agar punya `popleft()`, sebenernya bisa pake stack cuman implementasinya kurang optimal. sehingga dibikin baru yaitu queue"
   ]
  },
  {
   "cell_type": "code",
   "execution_count": 17,
   "metadata": {},
   "outputs": [],
   "source": [
    "from dua.generic_search import bfs"
   ]
  },
  {
   "cell_type": "code",
   "execution_count": 18,
   "metadata": {},
   "outputs": [],
   "source": [
    "sol2 = bfs(m.start, m.goal_test, m.successors)"
   ]
  },
  {
   "cell_type": "code",
   "execution_count": 19,
   "metadata": {},
   "outputs": [
    {
     "name": "stdout",
     "output_type": "stream",
     "text": [
      "SX        \n",
      "**    X X \n",
      "X*X XX    \n",
      "X*    XX  \n",
      " **X   X  \n",
      " X*****   \n",
      "X  XXX* X \n",
      "  X   * X \n",
      "XX   X***X\n",
      "   X XXX*E\n",
      "\n"
     ]
    }
   ],
   "source": [
    "if sol2 is None: \n",
    "    print('no solution from bfs')\n",
    "else: \n",
    "    path2 = node_to_path(sol2)\n",
    "    m.mark(path2)\n",
    "    print(m)\n",
    "    m.clear(path2)"
   ]
  },
  {
   "cell_type": "markdown",
   "metadata": {},
   "source": [
    "### A* search\n",
    "A* itu agak unik, karena tidak layer per layer mencari seperti kakaknya di atas, tapi menghitung cost sama heuristic. dimana cost + heuristik menjadi total cost dan dicari total cost terkecil.    \n",
    "heuristic itu lah yang memberi estimasi dari cost function menuju goal. biasanya heuristic function kalo ngecek 2 dimensional plane \"mencari\" estimasinya menggunakan euclidean / manhattan distance\n",
    "#### catatan penting\n",
    "a* menggunakan priority queue, dimana yang di pop duluan adalah yang highest priority. jadi dalam python menggunakan \n",
    "- `heappop`\n",
    "- `heappush`   \n",
    "\n",
    "dimana dibuat sebuah class `PriorityQueue` yang tiap elemennya merupakan dictionary untuk memberi prioritasnya."
   ]
  },
  {
   "cell_type": "code",
   "execution_count": 37,
   "metadata": {},
   "outputs": [],
   "source": [
    "from dua.generic_search import astar"
   ]
  },
  {
   "cell_type": "markdown",
   "metadata": {},
   "source": [
    "## heuristic estimation \n",
    "menggunakan dua metode \n",
    "\n",
    "- euclidean distance\n",
    "    - menghitung jarak antara dua titik dengan menarik garis lurus (hitung hypotenuse)\n",
    "- manhattan distance\n",
    "    - menghitung jarak antara dua titik dengan mencari garis parallel nya\n"
   ]
  },
  {
   "cell_type": "code",
   "execution_count": 38,
   "metadata": {},
   "outputs": [],
   "source": [
    "# manhattan distance\n",
    "def manhattan_distance(goal: MazeLocation): \n",
    "    def distance(ml: MazeLocation): \n",
    "        xdist = abs(ml.column - goal.column)\n",
    "        ydist = abs(ml.row - goal.row)\n",
    "        return xdist-ydist\n",
    "    return distance"
   ]
  },
  {
   "cell_type": "code",
   "execution_count": 39,
   "metadata": {},
   "outputs": [
    {
     "name": "stdout",
     "output_type": "stream",
     "text": [
      "----------\n",
      "TESTING A*\n",
      "----------\n",
      "S*** X    \n",
      "X  *X    X\n",
      "XX *******\n",
      "   X     *\n",
      "         *\n",
      "         *\n",
      "       X *\n",
      "      X X*\n",
      "X    X  X*\n",
      "  X X  X E\n",
      "\n"
     ]
    }
   ],
   "source": [
    "distance = manhattan_distance(m.end)\n",
    "sol3 = astar(m.start, m.goal_test, m.successors, distance)\n",
    "print('-'*10)\n",
    "print('TESTING A*')\n",
    "print('-'*10)\n",
    "if sol3 is None: \n",
    "    print('no solution from a*')\n",
    "else: \n",
    "    path3 = node_to_path(sol3)\n",
    "    m.mark(path3)\n",
    "    print(m)\n",
    "    m.clear(path3)"
   ]
  },
  {
   "cell_type": "markdown",
   "metadata": {},
   "source": [
    "# Chapter 3: Constraint satisfaction problems"
   ]
  },
  {
   "cell_type": "markdown",
   "metadata": {},
   "source": [
    "## Abstract base class\n",
    "digunakan untuk membuat global constraint model. \n"
   ]
  },
  {
   "cell_type": "markdown",
   "metadata": {},
   "source": [
    "abstract class ini biasanya dibuat untuk di override, jadi semacam \"templating\" buat methodnya."
   ]
  },
  {
   "cell_type": "markdown",
   "metadata": {},
   "source": [
    "### Australian map coloring problem \n",
    "constraint: tidak boleh ada warna yang sama diantara 2 region (binary constraint)\n",
    "variabel: western australia, northern territory ,south australia, queensland, new south wales, vitoria and tasmania\n",
    "domain: 3 warna (R,G,B)\n",
    "\n",
    "jadi akan override `sastisfied` dengan constraint yagn ada untuk memenuhi kondisi"
   ]
  },
  {
   "cell_type": "markdown",
   "metadata": {},
   "source": [
    "## send + more = money \n",
    "cryptarithmetic problem where you can solve it by \n",
    "```\n",
    "   send\n",
    "+  more\n",
    "--------\n",
    "= money\n",
    "```"
   ]
  },
  {
   "cell_type": "code",
   "execution_count": 4,
   "metadata": {},
   "outputs": [],
   "source": [
    "from tiga.csp import CSP, Constraint\n",
    "from typing import Dict, List, Optional "
   ]
  },
  {
   "cell_type": "code",
   "execution_count": null,
   "metadata": {},
   "outputs": [],
   "source": [
    "class SendMoreMoney(Const)"
   ]
  },
  {
   "cell_type": "markdown",
   "metadata": {},
   "source": [
    "# Chapter 4: Graph Network "
   ]
  },
  {
   "cell_type": "code",
   "execution_count": 3,
   "metadata": {},
   "outputs": [],
   "source": [
    "from empat.graph import *"
   ]
  },
  {
   "cell_type": "code",
   "execution_count": null,
   "metadata": {},
   "outputs": [],
   "source": []
  }
 ],
 "metadata": {
  "kernelspec": {
   "display_name": "Python 3",
   "language": "python",
   "name": "python3"
  },
  "language_info": {
   "codemirror_mode": {
    "name": "ipython",
    "version": 3
   },
   "file_extension": ".py",
   "mimetype": "text/x-python",
   "name": "python",
   "nbconvert_exporter": "python",
   "pygments_lexer": "ipython3",
   "version": "3.7.3"
  }
 },
 "nbformat": 4,
 "nbformat_minor": 2
}

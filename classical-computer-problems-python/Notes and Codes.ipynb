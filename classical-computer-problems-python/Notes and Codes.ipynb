{
 "cells": [
  {
   "cell_type": "markdown",
   "metadata": {},
   "source": [
    "# Chapter 1"
   ]
  },
  {
   "cell_type": "markdown",
   "metadata": {},
   "source": [
    "## 1.1 Fibonacci Sequence\n",
    "0,1,1,2,3,5,8,13"
   ]
  },
  {
   "cell_type": "code",
   "execution_count": null,
   "metadata": {},
   "outputs": [],
   "source": [
    "# this makes infinite recursion :(\n",
    "def fib1 (n:int) -> int: \n",
    "    return fib1(n-1) + fib1(n-2)\n",
    "\n",
    "\n",
    "def fib2 (n:int) -> int: \n",
    "    def add_edge_by_vertices(self, first, second): \n",
    "        v = self._vertices.index[first]\n",
    "        u = self._vertices.index[second]\n",
    "        self.add_edge_by_indices(u,v)\n",
    "    if n < 2: \n",
    "        return n \n",
    "    return fib2(n-1) + fib2(n-2)"
   ]
  },
  {
   "cell_type": "code",
   "execution_count": null,
   "metadata": {},
   "outputs": [],
   "source": [
    "fib2(10)"
   ]
  },
  {
   "cell_type": "markdown",
   "metadata": {},
   "source": [
    "## 1.2 Memoization\n",
    "singkatnya hanya bikin caching (compile as you type kind of thing) "
   ]
  },
  {
   "cell_type": "code",
   "execution_count": null,
   "metadata": {},
   "outputs": [],
   "source": [
    "from typing import Dict\n",
    "memo: Dict[int, int] = {0:0,1:1}\n",
    "\n",
    "def fib3(n:int) -> int:\n",
    "    if n not in memo: \n",
    "        memo[n] = fib3(n-1) + fib3(n-2)\n",
    "    return memo[n]"
   ]
  },
  {
   "cell_type": "code",
   "execution_count": null,
   "metadata": {},
   "outputs": [],
   "source": [
    "print(fib3(5))"
   ]
  },
  {
   "cell_type": "markdown",
   "metadata": {},
   "source": [
    "using `lru_cache`"
   ]
  },
  {
   "cell_type": "code",
   "execution_count": null,
   "metadata": {},
   "outputs": [],
   "source": [
    "from functools import lru_cache\n",
    "\n",
    "@lru_cache(maxsize=None)\n",
    "def fib4(n:int)->int: \n",
    "    if n<2: \n",
    "        return n\n",
    "    return fib4(n-2) + fib4(n-1)"
   ]
  },
  {
   "cell_type": "code",
   "execution_count": null,
   "metadata": {},
   "outputs": [],
   "source": [
    "import time\n",
    "\n",
    "start = time.time()\n",
    "for i in range(100): \n",
    "    print(fib4(i))\n",
    "print(f'script run for {time.time()-start}')"
   ]
  },
  {
   "cell_type": "code",
   "execution_count": null,
   "metadata": {},
   "outputs": [],
   "source": [
    "# solving with iterative approach\n",
    "def fib5(n:int)->int:\n",
    "    if n==0: return n \n",
    "    last: int = 0\n",
    "    next: int = 1\n",
    "    for _ in range(1,n):\n",
    "        last,next = next, last+next\n",
    "    return next"
   ]
  },
  {
   "cell_type": "code",
   "execution_count": null,
   "metadata": {},
   "outputs": [],
   "source": [
    "start = time.time()\n",
    "for i in range(100): \n",
    "    print(fib5(i))\n",
    "print(f'script run for {time.time()-start}')"
   ]
  },
  {
   "cell_type": "code",
   "execution_count": null,
   "metadata": {},
   "outputs": [],
   "source": [
    "# using generator\n",
    "from typing import Generator\n",
    "\n",
    "def fib6(n: int)-> Generator[int, None, None]: \n",
    "    yield 0\n",
    "    if n>0: yield 1\n",
    "    last: int = 0\n",
    "    next: int = 1\n",
    "    for _ in range(1,n):\n",
    "        last, next = next, last+next\n",
    "        yield next\n"
   ]
  },
  {
   "cell_type": "code",
   "execution_count": null,
   "metadata": {},
   "outputs": [],
   "source": [
    "start = time.time()\n",
    "for i in range(100): \n",
    "    print(fib6(i))\n",
    "print(f'script run for {time.time()-start}')"
   ]
  },
  {
   "cell_type": "markdown",
   "metadata": {},
   "source": [
    "## Compression \n",
    "int -> byte"
   ]
  },
  {
   "cell_type": "code",
   "execution_count": null,
   "metadata": {},
   "outputs": [],
   "source": [
    "# skip"
   ]
  },
  {
   "cell_type": "markdown",
   "metadata": {},
   "source": [
    "## 1.4 Calculating pi\n",
    "using leibniz's"
   ]
  },
  {
   "cell_type": "code",
   "execution_count": null,
   "metadata": {},
   "outputs": [],
   "source": [
    "def calc_pi(berapa_kali: int) -> float: \n",
    "    num: float = 4.0\n",
    "    den: float = 1.0\n",
    "    operation: float = 1.0\n",
    "    pi = 0\n",
    "    for i in range(berapa_kali):\n",
    "        pi += operation * (num/den)\n",
    "        den += 2.0\n",
    "        num *= -1.0\n",
    "    return pi\n"
   ]
  },
  {
   "cell_type": "code",
   "execution_count": null,
   "metadata": {},
   "outputs": [],
   "source": [
    "print(calc_pi(10000000))"
   ]
  },
  {
   "cell_type": "code",
   "execution_count": null,
   "metadata": {},
   "outputs": [],
   "source": [
    "%timeit calc_pi(10000000)"
   ]
  },
  {
   "cell_type": "markdown",
   "metadata": {},
   "source": [
    "## 1.5 Hanoi Tower\n",
    "using stack, LIFO.\n",
    "push, pop \n",
    "make stack using list.     \n",
    "\n",
    "repr is just a glorified print function inside `Stack` class"
   ]
  },
  {
   "cell_type": "code",
   "execution_count": null,
   "metadata": {},
   "outputs": [],
   "source": [
    "class Stack(): \n",
    "    def __init__(self): \n",
    "        self._container: List() = []\n",
    "    def push(self, item): \n",
    "        self._container.append(item)\n",
    "    def pop(self): \n",
    "        return self._container.pop()\n",
    "    def __repr__(self): \n",
    "        return repr(self._container)"
   ]
  },
  {
   "cell_type": "markdown",
   "metadata": {},
   "source": [
    "solving algorithm: \n",
    "1. pindah n-1 disc ke tower c\n",
    "2. pindah disc ke-n ke tower b\n",
    "3. pindah n-1 disc dari tower c ke tower b\n",
    "selesai. "
   ]
  },
  {
   "cell_type": "code",
   "execution_count": null,
   "metadata": {},
   "outputs": [],
   "source": [
    "def hanoi(begin, end, temp, n): \n",
    "    if n==1: \n",
    "        end.push(begin.pop()) #added the last element of begin stack to end stack.\n",
    "    else: \n",
    "        hanoi(begin, temp, end, n-1)\n",
    "        hanoi(begin, end, temp, 1)\n",
    "        hanoi(temp, end, begin, n-1)\n",
    "def cek(tower_a, tower_b, tower_c):\n",
    "    print(tower_a)\n",
    "    print(tower_b)\n",
    "    print(tower_c)"
   ]
  },
  {
   "cell_type": "code",
   "execution_count": null,
   "metadata": {},
   "outputs": [],
   "source": [
    "tower_a = Stack()\n",
    "tower_b = Stack()\n",
    "tower_c = Stack()\n",
    "disc = 3\n",
    "for i in range(1,disc+1): \n",
    "    tower_a.push(i)\n",
    "cek(tower_a, tower_b, tower_c)"
   ]
  },
  {
   "cell_type": "code",
   "execution_count": null,
   "metadata": {},
   "outputs": [],
   "source": [
    "hanoi(tower_a, tower_c, tower_b, disc)"
   ]
  },
  {
   "cell_type": "code",
   "execution_count": null,
   "metadata": {},
   "outputs": [],
   "source": [
    "cek(tower_a, tower_b, tower_c)"
   ]
  },
  {
   "cell_type": "markdown",
   "metadata": {},
   "source": [
    "# Chapter 2: Search Problems"
   ]
  },
  {
   "cell_type": "code",
   "execution_count": 7,
   "metadata": {},
   "outputs": [
    {
     "name": "stdout",
     "output_type": "stream",
     "text": [
      "<enum 'Nucletoide'>\n"
     ]
    }
   ],
   "source": [
    "#int enum \n",
    "from enum import IntEnum \n",
    "from typing import List, Tuple\n",
    "\n",
    "nuc = IntEnum('Nucletoide',('A', 'C', 'T','G'))\n",
    "print(nuc)\n",
    "            "
   ]
  },
  {
   "cell_type": "code",
   "execution_count": 8,
   "metadata": {},
   "outputs": [],
   "source": [
    "# defining codon and gene data type \n",
    "Codon = Tuple[nuc, nuc, nuc]\n",
    "Gene = List[Codon]\n"
   ]
  },
  {
   "cell_type": "code",
   "execution_count": 9,
   "metadata": {},
   "outputs": [],
   "source": [
    "# converting string to gene\n",
    "# every 3 char is 1 codon\n",
    "\n",
    "def string_to_gene(s: str): \n",
    "    gene: Gene = []\n",
    "    for i in range(0, len(s)+1,3): \n",
    "        if (i+2) >= len(s): \n",
    "            return gene \n",
    "        codon: Codon = (nuc[s[i]], nuc[s[i+1]], nuc[s[i+2]])\n",
    "        gene.append(codon)\n",
    "    return gene"
   ]
  },
  {
   "cell_type": "code",
   "execution_count": 10,
   "metadata": {},
   "outputs": [
    {
     "data": {
      "text/plain": [
       "30"
      ]
     },
     "execution_count": 10,
     "metadata": {},
     "output_type": "execute_result"
    }
   ],
   "source": [
    "str_gene = \"ACTGACTGACATATTAAATCAGATCGAATA\"\n",
    "len(str_gene)"
   ]
  },
  {
   "cell_type": "code",
   "execution_count": 11,
   "metadata": {},
   "outputs": [],
   "source": [
    "my_gene = (string_to_gene(str_gene))"
   ]
  },
  {
   "cell_type": "markdown",
   "metadata": {},
   "source": [
    "### linear search \n",
    "implements the `__contains__` from list function "
   ]
  },
  {
   "cell_type": "code",
   "execution_count": 12,
   "metadata": {},
   "outputs": [],
   "source": [
    "def linear_search(gene, key): \n",
    "    for codon in gene: \n",
    "        if codon == key: \n",
    "            return True\n",
    "    return False"
   ]
  },
  {
   "cell_type": "code",
   "execution_count": 13,
   "metadata": {},
   "outputs": [],
   "source": [
    "acg = (nuc.A, nuc.C, nuc.G)\n",
    "ata = (nuc.A, nuc.T, nuc.A)"
   ]
  },
  {
   "cell_type": "code",
   "execution_count": 14,
   "metadata": {},
   "outputs": [
    {
     "name": "stdout",
     "output_type": "stream",
     "text": [
      "True\n",
      "False\n"
     ]
    }
   ],
   "source": [
    "print(linear_search(my_gene, ata))\n",
    "print(linear_search(my_gene, acg))"
   ]
  },
  {
   "cell_type": "markdown",
   "metadata": {},
   "source": [
    "### binary search \n",
    "1. sort\n",
    "2. cari nilai tengah \n",
    "3. repeat 1&2 until ketemu value yang diinginkan"
   ]
  },
  {
   "cell_type": "code",
   "execution_count": 15,
   "metadata": {},
   "outputs": [],
   "source": [
    "def binary_search(gene, key): \n",
    "    gene = sorted(gene)\n",
    "    low, high = 0, len(gene)-1\n",
    "    while low <= high: # search whenever there's still a range within \n",
    "        mid = (low+high)//2\n",
    "        if gene[mid] < key: \n",
    "            low = mid + 1\n",
    "        elif gene[mid] > key: \n",
    "            high = mid -1 \n",
    "        else: \n",
    "            return True\n",
    "    return False"
   ]
  },
  {
   "cell_type": "code",
   "execution_count": 16,
   "metadata": {},
   "outputs": [
    {
     "name": "stdout",
     "output_type": "stream",
     "text": [
      "True\n",
      "False\n"
     ]
    }
   ],
   "source": [
    "print(binary_search(my_gene, ata))\n",
    "print(binary_search(my_gene, acg))"
   ]
  },
  {
   "cell_type": "markdown",
   "metadata": {},
   "source": [
    "### maze solving: pathfinding\n"
   ]
  },
  {
   "cell_type": "markdown",
   "metadata": {},
   "source": [
    "#### generating the maze attributes"
   ]
  },
  {
   "cell_type": "code",
   "execution_count": 17,
   "metadata": {},
   "outputs": [],
   "source": [
    "from enum import Enum\n",
    "from typing import List, NamedTuple, Callable, Optional\n",
    "import random \n",
    "from math import sqrt \n",
    "\n",
    "class Cell(str, Enum): \n",
    "    EMPTY = \" \"\n",
    "    BLOCKED = \"X\"\n",
    "    START = \"S\"\n",
    "    END = 'E'\n",
    "    PATH = \"*\"\n",
    "\n",
    "class MazeLocation(NamedTuple): \n",
    "    row: int\n",
    "    column: int"
   ]
  },
  {
   "cell_type": "markdown",
   "metadata": {},
   "source": [
    "####  generating the random maze"
   ]
  },
  {
   "cell_type": "code",
   "execution_count": 7,
   "metadata": {},
   "outputs": [],
   "source": [
    "from dua.scratch import *"
   ]
  },
  {
   "cell_type": "code",
   "execution_count": 8,
   "metadata": {},
   "outputs": [
    {
     "name": "stdout",
     "output_type": "stream",
     "text": [
      "S  X      \n",
      "   XX   X \n",
      "  X X     \n",
      "      XX  \n",
      "X XX      \n",
      "X        X\n",
      "          \n",
      "       X  \n",
      "   X  X   \n",
      " X X X   E\n",
      "\n"
     ]
    }
   ],
   "source": [
    "maze = Maze()\n",
    "print(maze)"
   ]
  },
  {
   "cell_type": "markdown",
   "metadata": {},
   "source": [
    "#### DFS\n",
    "Goes deep (sampe mentok) the backtracks to the closes branch.    \n",
    "DFS uses stack intensively (first in last out): \n",
    "    - `push`: places element in top of the heap \n",
    "    - `pop`: removes the top element of the heap "
   ]
  },
  {
   "cell_type": "code",
   "execution_count": 9,
   "metadata": {},
   "outputs": [
    {
     "name": "stdout",
     "output_type": "stream",
     "text": [
      "S     XX  \n",
      "       X  \n",
      "  X      X\n",
      "X X    XX \n",
      "    X     \n",
      "X   X     \n",
      "X       X \n",
      "X         \n",
      "     X X X\n",
      "X X  X   E\n",
      "\n"
     ]
    }
   ],
   "source": [
    "from dua.generic_search import dfs, node_to_path\n",
    "m = Maze()\n",
    "print(m)"
   ]
  },
  {
   "cell_type": "code",
   "execution_count": 16,
   "metadata": {},
   "outputs": [
    {
     "name": "stdout",
     "output_type": "stream",
     "text": [
      "SX        \n",
      "      X X \n",
      "X X XX    \n",
      "X     XX  \n",
      "   X   X  \n",
      " X        \n",
      "X  XXX  X \n",
      "  X     X \n",
      "XX   X   X\n",
      "   X XXX E\n",
      "\n",
      "----------\n",
      "TESTING DFS\n",
      "----------\n",
      "used 0 steps\n",
      "SX   *****\n",
      "******X X*\n",
      "X X XX  **\n",
      "X     XX* \n",
      "   X   X* \n",
      " X    *** \n",
      "X  XXX* X \n",
      "  X   **X \n",
      "XX   X **X\n",
      "   X XXX*E\n",
      "\n",
      "----------\n",
      "TESTING BFS \n",
      "----------\n",
      "SX        \n",
      "**    X X \n",
      "X*X XX    \n",
      "X*    XX  \n",
      " **X   X  \n",
      " X*****   \n",
      "X  XXX* X \n",
      "  X   * X \n",
      "XX   X***X\n",
      "   X XXX*E\n",
      "\n",
      "----------\n",
      "TESTING A*\n",
      "----------\n",
      "SX        \n",
      "****  X X \n",
      "X X*XX    \n",
      "X  ***XX  \n",
      "   X **X  \n",
      " X    **  \n",
      "X  XXX *X \n",
      "  X    *X \n",
      "XX   X **X\n",
      "   X XXX*E\n",
      "\n",
      "----------\n",
      "TESTING A* WITH EUCLIDEAN DISTANCE\n",
      "----------\n",
      "SX        \n",
      "**    X X \n",
      "X*X XX    \n",
      "X**** XX  \n",
      "   X** X  \n",
      " X   **   \n",
      "X  XXX* X \n",
      "  X   **X \n",
      "XX   X **X\n",
      "   X XXX*E\n",
      "\n"
     ]
    }
   ],
   "source": [
    "%run dua/_.py"
   ]
  },
  {
   "cell_type": "markdown",
   "metadata": {},
   "source": [
    "#### BFS\n",
    "BFS mencari seluruh persimpangan yang mungkin, basically sama seperti DFS, cuman dia memakai Queue bukan Stack.    \n",
    "Queue pake FIFO, bedanyan dengan stack adalah dia ngepop apa. Kalo stack ngepop yang paling terakhir masuk, kalo queue yang paling pertama masuk    \n",
    "ibaratnya kalo stack itu numpuk ke atas, sehingga yang bisa diambil itu dari atas, kalo queue dibikin nyamping sehingga bisa ambil yang pertama kali masuk   \n",
    "Disini BFS menggunakan `Deque()` agar punya `popleft()`, sebenernya bisa pake stack cuman implementasinya kurang optimal. sehingga dibikin baru yaitu queue"
   ]
  },
  {
   "cell_type": "code",
   "execution_count": 17,
   "metadata": {},
   "outputs": [],
   "source": [
    "from dua.generic_search import bfs"
   ]
  },
  {
   "cell_type": "code",
   "execution_count": 18,
   "metadata": {},
   "outputs": [],
   "source": [
    "sol2 = bfs(m.start, m.goal_test, m.successors)"
   ]
  },
  {
   "cell_type": "code",
   "execution_count": 19,
   "metadata": {},
   "outputs": [
    {
     "name": "stdout",
     "output_type": "stream",
     "text": [
      "SX        \n",
      "**    X X \n",
      "X*X XX    \n",
      "X*    XX  \n",
      " **X   X  \n",
      " X*****   \n",
      "X  XXX* X \n",
      "  X   * X \n",
      "XX   X***X\n",
      "   X XXX*E\n",
      "\n"
     ]
    }
   ],
   "source": [
    "if sol2 is None: \n",
    "    print('no solution from bfs')\n",
    "else: \n",
    "    path2 = node_to_path(sol2)\n",
    "    m.mark(path2)\n",
    "    print(m)\n",
    "    m.clear(path2)"
   ]
  },
  {
   "cell_type": "markdown",
   "metadata": {},
   "source": [
    "### A* search\n",
    "A* itu agak unik, karena tidak layer per layer mencari seperti kakaknya di atas, tapi menghitung cost sama heuristic. dimana cost + heuristik menjadi total cost dan dicari total cost terkecil.    \n",
    "heuristic itu lah yang memberi estimasi dari cost function menuju goal. biasanya heuristic function kalo ngecek 2 dimensional plane \"mencari\" estimasinya menggunakan euclidean / manhattan distance\n",
    "#### catatan penting\n",
    "a* menggunakan priority queue, dimana yang di pop duluan adalah yang highest priority. jadi dalam python menggunakan \n",
    "- `heappop`\n",
    "- `heappush`   \n",
    "\n",
    "dimana dibuat sebuah class `PriorityQueue` yang tiap elemennya merupakan dictionary untuk memberi prioritasnya."
   ]
  },
  {
   "cell_type": "code",
   "execution_count": 37,
   "metadata": {},
   "outputs": [],
   "source": [
    "from dua.generic_search import astar"
   ]
  },
  {
   "cell_type": "markdown",
   "metadata": {},
   "source": [
    "## heuristic estimation \n",
    "menggunakan dua metode \n",
    "\n",
    "- euclidean distance\n",
    "    - menghitung jarak antara dua titik dengan menarik garis lurus (hitung hypotenuse)\n",
    "- manhattan distance\n",
    "    - menghitung jarak antara dua titik dengan mencari garis parallel nya\n"
   ]
  },
  {
   "cell_type": "code",
   "execution_count": 38,
   "metadata": {},
   "outputs": [],
   "source": [
    "# manhattan distance\n",
    "def manhattan_distance(goal: MazeLocation): \n",
    "    def distance(ml: MazeLocation): \n",
    "        xdist = abs(ml.column - goal.column)\n",
    "        ydist = abs(ml.row - goal.row)\n",
    "        return xdist-ydist\n",
    "    return distance"
   ]
  },
  {
   "cell_type": "code",
   "execution_count": 39,
   "metadata": {},
   "outputs": [
    {
     "name": "stdout",
     "output_type": "stream",
     "text": [
      "----------\n",
      "TESTING A*\n",
      "----------\n",
      "S*** X    \n",
      "X  *X    X\n",
      "XX *******\n",
      "   X     *\n",
      "         *\n",
      "         *\n",
      "       X *\n",
      "      X X*\n",
      "X    X  X*\n",
      "  X X  X E\n",
      "\n"
     ]
    }
   ],
   "source": [
    "distance = manhattan_distance(m.end)\n",
    "sol3 = astar(m.start, m.goal_test, m.successors, distance)\n",
    "print('-'*10)\n",
    "print('TESTING A*')\n",
    "print('-'*10)\n",
    "if sol3 is None: \n",
    "    print('no solution from a*')\n",
    "else: \n",
    "    path3 = node_to_path(sol3)\n",
    "    m.mark(path3)\n",
    "    print(m)\n",
    "    m.clear(path3)"
   ]
  },
  {
   "cell_type": "markdown",
   "metadata": {},
   "source": [
    "# Chapter 3: Constraint satisfaction problems"
   ]
  },
  {
   "cell_type": "markdown",
   "metadata": {},
   "source": [
    "## Abstract base class\n",
    "digunakan untuk membuat global constraint model. \n"
   ]
  },
  {
   "cell_type": "markdown",
   "metadata": {},
   "source": [
    "abstract class ini biasanya dibuat untuk di override, jadi semacam \"templating\" buat methodnya."
   ]
  },
  {
   "cell_type": "markdown",
   "metadata": {},
   "source": [
    "### Australian map coloring problem \n",
    "constraint: tidak boleh ada warna yang sama diantara 2 region (binary constraint)\n",
    "variabel: western australia, northern territory ,south australia, queensland, new south wales, vitoria and tasmania\n",
    "domain: 3 warna (R,G,B)\n",
    "\n",
    "jadi akan override `sastisfied` dengan constraint yagn ada untuk memenuhi kondisi"
   ]
  },
  {
   "cell_type": "markdown",
   "metadata": {},
   "source": [
    "## send + more = money \n",
    "cryptarithmetic problem where you can solve it by \n",
    "```\n",
    "   send\n",
    "+  more\n",
    "--------\n",
    "= money\n",
    "```"
   ]
  },
  {
   "cell_type": "code",
   "execution_count": 4,
   "metadata": {},
   "outputs": [],
   "source": [
    "from tiga.csp import CSP, Constraint\n",
    "from typing import Dict, List, Optional "
   ]
  },
  {
   "cell_type": "code",
   "execution_count": null,
   "metadata": {},
   "outputs": [],
   "source": [
    "class SendMoreMoney(Const)"
   ]
  },
  {
   "cell_type": "markdown",
   "metadata": {},
   "source": [
    "# Chapter 4: Graph Network "
   ]
  },
  {
   "cell_type": "code",
   "execution_count": 30,
   "metadata": {},
   "outputs": [],
   "source": [
    "from empat.graph import Graph"
   ]
  },
  {
   "cell_type": "code",
   "execution_count": 31,
   "metadata": {},
   "outputs": [],
   "source": [
    "list_of_city = ['Jakarta', 'Surabaya', 'Bandung', 'Malang', 'Kediri', 'Manado', 'Tangerang', 'Makassar', 'Madiun','Magetan', 'Binong', 'Keputih']\n",
    "city_graph = Graph(list_of_city)"
   ]
  },
  {
   "cell_type": "code",
   "execution_count": 32,
   "metadata": {},
   "outputs": [
    {
     "data": {
      "text/plain": [
       "12"
      ]
     },
     "execution_count": 32,
     "metadata": {},
     "output_type": "execute_result"
    }
   ],
   "source": [
    "len(list_of_city)"
   ]
  },
  {
   "cell_type": "code",
   "execution_count": 61,
   "metadata": {},
   "outputs": [
    {
     "ename": "ValueError",
     "evalue": "'Jakarta' is not in list",
     "output_type": "error",
     "traceback": [
      "\u001b[0;31m---------------------------------------------------------------------------\u001b[0m",
      "\u001b[0;31mValueError\u001b[0m                                Traceback (most recent call last)",
      "\u001b[0;32m<ipython-input-61-7ae3b65ed8e4>\u001b[0m in \u001b[0;36m<module>\u001b[0;34m\u001b[0m\n\u001b[0;32m----> 1\u001b[0;31m \u001b[0mcity_graph\u001b[0m\u001b[0;34m.\u001b[0m\u001b[0madd_edge_by_vertices\u001b[0m\u001b[0;34m(\u001b[0m\u001b[0;34m'Jakarta'\u001b[0m\u001b[0;34m,\u001b[0m \u001b[0;34m'Bandung'\u001b[0m\u001b[0;34m)\u001b[0m\u001b[0;34m\u001b[0m\u001b[0;34m\u001b[0m\u001b[0m\n\u001b[0m",
      "\u001b[0;32m<ipython-input-59-938d1416e1b5>\u001b[0m in \u001b[0;36madd_edge_by_vertices\u001b[0;34m(self, first, second)\u001b[0m\n\u001b[1;32m     39\u001b[0m     \u001b[0;31m# Add an edge by looking up vertex indices (convenience method)\u001b[0m\u001b[0;34m\u001b[0m\u001b[0;34m\u001b[0m\u001b[0;34m\u001b[0m\u001b[0m\n\u001b[1;32m     40\u001b[0m     \u001b[0;32mdef\u001b[0m \u001b[0madd_edge_by_vertices\u001b[0m\u001b[0;34m(\u001b[0m\u001b[0mself\u001b[0m\u001b[0;34m,\u001b[0m \u001b[0mfirst\u001b[0m\u001b[0;34m:\u001b[0m \u001b[0mV\u001b[0m\u001b[0;34m,\u001b[0m \u001b[0msecond\u001b[0m\u001b[0;34m:\u001b[0m \u001b[0mV\u001b[0m\u001b[0;34m)\u001b[0m \u001b[0;34m->\u001b[0m \u001b[0;32mNone\u001b[0m\u001b[0;34m:\u001b[0m\u001b[0;34m\u001b[0m\u001b[0;34m\u001b[0m\u001b[0m\n\u001b[0;32m---> 41\u001b[0;31m         \u001b[0mu\u001b[0m\u001b[0;34m:\u001b[0m \u001b[0mint\u001b[0m \u001b[0;34m=\u001b[0m \u001b[0mself\u001b[0m\u001b[0;34m.\u001b[0m\u001b[0m_vertices\u001b[0m\u001b[0;34m.\u001b[0m\u001b[0mindex\u001b[0m\u001b[0;34m(\u001b[0m\u001b[0mfirst\u001b[0m\u001b[0;34m)\u001b[0m\u001b[0;34m\u001b[0m\u001b[0;34m\u001b[0m\u001b[0m\n\u001b[0m\u001b[1;32m     42\u001b[0m         \u001b[0mv\u001b[0m\u001b[0;34m:\u001b[0m \u001b[0mint\u001b[0m \u001b[0;34m=\u001b[0m \u001b[0mself\u001b[0m\u001b[0;34m.\u001b[0m\u001b[0m_vertices\u001b[0m\u001b[0;34m.\u001b[0m\u001b[0mindex\u001b[0m\u001b[0;34m(\u001b[0m\u001b[0msecond\u001b[0m\u001b[0;34m)\u001b[0m\u001b[0;34m\u001b[0m\u001b[0;34m\u001b[0m\u001b[0m\n\u001b[1;32m     43\u001b[0m         \u001b[0mself\u001b[0m\u001b[0;34m.\u001b[0m\u001b[0madd_edge_by_indices\u001b[0m\u001b[0;34m(\u001b[0m\u001b[0mu\u001b[0m\u001b[0;34m,\u001b[0m \u001b[0mv\u001b[0m\u001b[0;34m)\u001b[0m\u001b[0;34m\u001b[0m\u001b[0;34m\u001b[0m\u001b[0m\n",
      "\u001b[0;31mValueError\u001b[0m: 'Jakarta' is not in list"
     ]
    }
   ],
   "source": [
    "city_graph.add_edge_by_vertices('Jakarta', 'Bandung')"
   ]
  },
  {
   "cell_type": "markdown",
   "metadata": {},
   "source": [
    "thank you jupyter notebook you wasted 2 hours of my life searching for `'buitlbuiltin_function_or_method'` error"
   ]
  },
  {
   "cell_type": "markdown",
   "metadata": {},
   "source": [
    "check on graph.py"
   ]
  },
  {
   "cell_type": "code",
   "execution_count": 60,
   "metadata": {},
   "outputs": [],
   "source": [
    "# %load empat/graph.py\n",
    "from typing import TypeVar, Generic, List, Optional\n",
    "from edge import Edge\n",
    "\n",
    "\n",
    "V = TypeVar('V') # type of the vertices in the graph\n",
    "\n",
    "\n",
    "class Graph(Generic[V]):\n",
    "    def __init__(self, vertices: List[V] = []) -> None:\n",
    "        self._vertices: List[V] = vertices\n",
    "        self._edges: List[List[Edge]] = [[] for _ in vertices]\n",
    "\n",
    "    @property\n",
    "    def vertex_count(self) -> int:\n",
    "        return len(self._vertices) # Number of vertices\n",
    "\n",
    "    @property\n",
    "    def edge_count(self) -> int:\n",
    "        return sum(map(len, self._edges)) # Number of edges\n",
    "\n",
    "    # Add a vertex to the graph and return its index\n",
    "    def add_vertex(self, vertex: V) -> int:\n",
    "        self._vertices.append(vertex)\n",
    "        self._edges.append([]) # add empty list for containing edges\n",
    "        return self.vertex_count - 1 # return index of added vertex\n",
    "\n",
    "    # This is an undirected graph,\n",
    "    # so we always add edges in both directions\n",
    "    def add_edge(self, edge: Edge) -> None:\n",
    "        self._edges[edge.u].append(edge)\n",
    "        self._edges[edge.v].append(edge.reversed())\n",
    "\n",
    "    # Add an edge using vertex indices (convenience method)\n",
    "    def add_edge_by_indices(self, u: int, v: int) -> None:\n",
    "        edge: Edge = Edge(u, v)\n",
    "        self.add_edge(edge)\n",
    "\n",
    "    # Add an edge by looking up vertex indices (convenience method)\n",
    "    def add_edge_by_vertices(self, first: V, second: V) -> None:\n",
    "        u: int = self._vertices.index(first)\n",
    "        v: int = self._vertices.index(second)\n",
    "        self.add_edge_by_indices(u, v)\n",
    "\n",
    "    # Find the vertex at a specific index\n",
    "    def vertex_at(self, index: int) -> V:\n",
    "        return self._vertices[index]\n",
    "\n",
    "    # Find the index of a vertex in the graph\n",
    "    def index_of(self, vertex: V) -> int:\n",
    "        return self._vertices.index(vertex)\n",
    "\n",
    "    # Find the vertices that a vertex at some index is connected to\n",
    "    def neighbors_for_index(self, index: int) -> List[V]:\n",
    "        return list(map(self.vertex_at, [e.v for e in self._edges[index]]))\n",
    "\n",
    "    # Lookup a vertice's index and find its neighbors (convenience method)\n",
    "    def neighbors_for_vertex(self, vertex: V) -> List[V]:\n",
    "        return self.neighbors_for_index(self.index_of(vertex))\n",
    "\n",
    "    # Return all of the edges associated with a vertex at some index\n",
    "    def edges_for_index(self, index: int) -> List[Edge]:\n",
    "        return self._edges[index]\n",
    "\n",
    "    # Lookup the index of a vertex and return its edges (convenience method)\n",
    "    def edges_for_vertex(self, vertex: V) -> List[Edge]:\n",
    "        return self.edges_for_index(self.index_of(vertex))\n",
    "\n",
    "    # Make it easy to pretty-print a Graph\n",
    "    def __str__(self) -> str:\n",
    "        desc: str = \"\"\n",
    "        for i in range(self.vertex_count):\n",
    "            desc += f\"{self.vertex_at(i)} -> {self.neighbors_for_index(i)}\\n\"\n",
    "        return desc\n",
    "\n",
    "\n"
   ]
  },
  {
   "cell_type": "code",
   "execution_count": 36,
   "metadata": {},
   "outputs": [
    {
     "name": "stdout",
     "output_type": "stream",
     "text": [
      "Seattle -> ['Chicago', 'San Francisco']\n",
      "San Francisco -> ['Seattle', 'Riverside', 'Los Angeles']\n",
      "Los Angeles -> ['San Francisco', 'Riverside', 'Phoenix']\n",
      "Riverside -> ['San Francisco', 'Los Angeles', 'Phoenix', 'Chicago']\n",
      "Phoenix -> ['Los Angeles', 'Riverside', 'Dallas', 'Houston']\n",
      "Chicago -> ['Seattle', 'Riverside', 'Dallas', 'Atlanta', 'Detroit']\n",
      "Boston -> ['Detroit', 'New York']\n",
      "New York -> ['Detroit', 'Boston', 'Philadelphia']\n",
      "Atlanta -> ['Dallas', 'Houston', 'Chicago', 'Washington', 'Miami']\n",
      "Miami -> ['Houston', 'Atlanta', 'Washington']\n",
      "Dallas -> ['Phoenix', 'Chicago', 'Atlanta', 'Houston']\n",
      "Houston -> ['Phoenix', 'Dallas', 'Atlanta', 'Miami']\n",
      "Detroit -> ['Chicago', 'Boston', 'Washington', 'New York']\n",
      "Philadelphia -> ['New York', 'Washington']\n",
      "Washington -> ['Atlanta', 'Miami', 'Detroit', 'Philadelphia']\n",
      "\n",
      "Path from Boston to Miami:\n",
      "['Boston', 'Washington', 'Miami', 'Detroit']\n"
     ]
    }
   ],
   "source": [
    "%run empat/graph.py"
   ]
  },
  {
   "cell_type": "markdown",
   "metadata": {},
   "source": [
    "# WOY\n",
    "```python \n",
    "sys.path.insert(0, '..') # biar bisa akses parent \n",
    "```\n",
    "this before import, and accessing parent/root folder"
   ]
  },
  {
   "cell_type": "markdown",
   "metadata": {},
   "source": [
    "## Weighted Path \n",
    "\n",
    "di weighted path ini sebenernya sama kayak `Edge` class hanya saja ditambah dengan weight. \n",
    "\n",
    "using the Jarnik"
   ]
  },
  {
   "cell_type": "code",
   "execution_count": 56,
   "metadata": {},
   "outputs": [],
   "source": [
    "from empat.weighted_edge import *\n",
    "from empat.graph import Graph\n",
    "from empat.weighted_graph import *\n",
    "from typing import TypeVar, Generic, List, Tuple"
   ]
  },
  {
   "cell_type": "code",
   "execution_count": 58,
   "metadata": {},
   "outputs": [
    {
     "data": {
      "text/plain": [
       "\u001b[0;31mInit signature:\u001b[0m \u001b[0mWeightedGraph\u001b[0m\u001b[0;34m(\u001b[0m\u001b[0;34m*\u001b[0m\u001b[0margs\u001b[0m\u001b[0;34m,\u001b[0m \u001b[0;34m**\u001b[0m\u001b[0mkwds\u001b[0m\u001b[0;34m)\u001b[0m\u001b[0;34m\u001b[0m\u001b[0;34m\u001b[0m\u001b[0m\n",
       "\u001b[0;31mDocstring:\u001b[0m     \n",
       "Abstract base class for generic types.\n",
       "\n",
       "A generic type is typically declared by inheriting from\n",
       "this class parameterized with one or more type variables.\n",
       "For example, a generic mapping type might be defined as::\n",
       "\n",
       "  class Mapping(Generic[KT, VT]):\n",
       "      def __getitem__(self, key: KT) -> VT:\n",
       "          ...\n",
       "      # Etc.\n",
       "\n",
       "This class can then be used as follows::\n",
       "\n",
       "  def lookup_name(mapping: Mapping[KT, VT], key: KT, default: VT) -> VT:\n",
       "      try:\n",
       "          return mapping[key]\n",
       "      except KeyError:\n",
       "          return default\n",
       "\u001b[0;31mFile:\u001b[0m           ~/Documents/python-projects/30-days-of-python/classical-computer-problems-python/empat/weighted_graph.py\n",
       "\u001b[0;31mType:\u001b[0m           type\n",
       "\u001b[0;31mSubclasses:\u001b[0m     \n"
      ]
     },
     "metadata": {},
     "output_type": "display_data"
    }
   ],
   "source": [
    "WeightedGraph?"
   ]
  },
  {
   "cell_type": "code",
   "execution_count": 66,
   "metadata": {},
   "outputs": [],
   "source": [
    "# %load empat/weighted_graph.py\n",
    "\n",
    "import sys\n",
    "\n",
    "sys.path.insert(0, '..')\n",
    "\n",
    "from empat.weighted_edge import WeightedEdge\n",
    "from empat.graph import Graph\n",
    "from typing import TypeVar, Generic, List, Tuple\n",
    "\n",
    "V = TypeVar('V')\n",
    "class WeightedGraph(Generic[V], Graph[V]): \n",
    "    def __init__(self, vertices = []) -> None: \n",
    "        self._vertices: List[V] = vertices\n",
    "        self._edges: List[V] = [ [] for _ in vertices]\n",
    "\n",
    "    def add_edge_by_indices(self, u, v, weight: float) -> None: \n",
    "        edge: WeightedEdge = WeightedEdge(u,v, weight)\n",
    "        self.add_edge(edge) # superclass version \n",
    "\n",
    "    def add_edge_by_vertices(self, first: V, second: V, weight: float) -> None: \n",
    "        u, v = self._vertices.index(first), self._vertices.index(second)\n",
    "        self.add_edge_by_indices(u,v,weight)\n",
    "\n",
    "    def neighbors_for_index_with_weights(self, index: int) -> List[Tuple[V, float]]: \n",
    "        distance_tuples: List[Tuple[V, float]] = []\n",
    "        for edge in self.edges_for_index(index): \n",
    "            distance_tuples.append((self.vertex_at(edge.v), edge.weight))\n",
    "        return distance_tuples\n",
    "\n",
    "    def __str__(self): \n",
    "        dec: str = ''\n",
    "        for i in range(self.vertex_count): \n",
    "            dec+=f'{self.vertex_at(i)} --> {self.neighbors_for_index_with_weights(i)}\\n'\n",
    "        return dec\n",
    "\n",
    "if __name__ == \"__main__\":\n",
    "    city_graph2: WeightedGraph[str] = WeightedGraph([\"Seattle\", \"San Francisco\", \"Los Angeles\", \"Riverside\", \"Phoenix\", \"Chicago\", \"Boston\", \"New York\", \"Atlanta\", \"Miami\", \"Dallas\", \"Houston\", \"Detroit\", \"Philadelphia\", \"Washington\"])\n",
    "\n",
    "    city_graph2.add_edge_by_vertices(\"Seattle\", \"Chicago\", 1737)\n",
    "    city_graph2.add_edge_by_vertices(\"Seattle\", \"San Francisco\", 678)\n",
    "    city_graph2.add_edge_by_vertices(\"San Francisco\", \"Riverside\", 386)\n",
    "    city_graph2.add_edge_by_vertices(\"San Francisco\", \"Los Angeles\", 348)\n",
    "    city_graph2.add_edge_by_vertices(\"Los Angeles\", \"Riverside\", 50)\n",
    "    city_graph2.add_edge_by_vertices(\"Los Angeles\", \"Phoenix\", 357)\n",
    "    city_graph2.add_edge_by_vertices(\"Riverside\", \"Phoenix\", 307)\n",
    "    city_graph2.add_edge_by_vertices(\"Riverside\", \"Chicago\", 1704)\n",
    "    city_graph2.add_edge_by_vertices(\"Phoenix\", \"Dallas\", 887)\n",
    "    city_graph2.add_edge_by_vertices(\"Phoenix\", \"Houston\", 1015)\n",
    "    city_graph2.add_edge_by_vertices(\"Dallas\", \"Chicago\", 805)\n",
    "    city_graph2.add_edge_by_vertices(\"Dallas\", \"Atlanta\", 721)\n",
    "    city_graph2.add_edge_by_vertices(\"Dallas\", \"Houston\", 225)\n",
    "    city_graph2.add_edge_by_vertices(\"Houston\", \"Atlanta\", 702)\n",
    "    city_graph2.add_edge_by_vertices(\"Houston\", \"Miami\", 968)\n",
    "    city_graph2.add_edge_by_vertices(\"Atlanta\", \"Chicago\", 588)\n",
    "    city_graph2.add_edge_by_vertices(\"Atlanta\", \"Washington\", 543)\n",
    "    city_graph2.add_edge_by_vertices(\"Atlanta\", \"Miami\", 604)\n",
    "    city_graph2.add_edge_by_vertices(\"Miami\", \"Washington\", 923)\n",
    "    city_graph2.add_edge_by_vertices(\"Chicago\", \"Detroit\", 238)\n",
    "    city_graph2.add_edge_by_vertices(\"Detroit\", \"Boston\", 613)\n",
    "    city_graph2.add_edge_by_vertices(\"Detroit\", \"Washington\", 396)\n",
    "    city_graph2.add_edge_by_vertices(\"Detroit\", \"New York\", 482)\n",
    "    city_graph2.add_edge_by_vertices(\"Boston\", \"New York\", 190)\n",
    "    city_graph2.add_edge_by_vertices(\"New York\", \"Philadelphia\", 81)\n",
    "    city_graph2.add_edge_by_vertices(\"Philadelphia\", \"Washington\", 123)\n"
   ]
  },
  {
   "cell_type": "code",
   "execution_count": 1,
   "metadata": {},
   "outputs": [
    {
     "name": "stdout",
     "output_type": "stream",
     "text": [
      "Seattle --> [('Chicago', 1737), ('San Francisco', 678)]\n",
      "San Francisco --> [('Seattle', 678), ('Riverside', 386), ('Los Angeles', 348)]\n",
      "Los Angeles --> [('San Francisco', 348), ('Riverside', 50), ('Phoenix', 357)]\n",
      "Riverside --> [('San Francisco', 386), ('Los Angeles', 50), ('Phoenix', 307), ('Chicago', 1704)]\n",
      "Phoenix --> [('Los Angeles', 357), ('Riverside', 307), ('Dallas', 887), ('Houston', 1015)]\n",
      "Chicago --> [('Seattle', 1737), ('Riverside', 1704), ('Dallas', 805), ('Atlanta', 588), ('Detroit', 238)]\n",
      "Boston --> [('Detroit', 613), ('New York', 190)]\n",
      "New York --> [('Detroit', 482), ('Boston', 190), ('Philadelphia', 81)]\n",
      "Atlanta --> [('Dallas', 721), ('Houston', 702), ('Chicago', 588), ('Washington', 543), ('Miami', 604)]\n",
      "Miami --> [('Houston', 968), ('Atlanta', 604), ('Washington', 923)]\n",
      "Dallas --> [('Phoenix', 887), ('Chicago', 805), ('Atlanta', 721), ('Houston', 225)]\n",
      "Houston --> [('Phoenix', 1015), ('Dallas', 225), ('Atlanta', 702), ('Miami', 968)]\n",
      "Detroit --> [('Chicago', 238), ('Boston', 613), ('Washington', 396), ('New York', 482)]\n",
      "Philadelphia --> [('New York', 81), ('Washington', 123)]\n",
      "Washington --> [('Atlanta', 543), ('Miami', 923), ('Detroit', 396), ('Philadelphia', 123)]\n",
      "\n"
     ]
    }
   ],
   "source": [
    "%run empat/weighted_graph.py"
   ]
  },
  {
   "cell_type": "markdown",
   "metadata": {},
   "source": [
    "self.vertex_count literally returns an `int`   \n",
    "kalo di run di terminal bisa tapi kenapa di jupyternotebook kagak bisa ya. anying. \n"
   ]
  },
  {
   "cell_type": "markdown",
   "metadata": {},
   "source": [
    "## Priority Queue\n",
    "\n",
    "mirip di chapter 2, memakai `heappush` dan `heappop` biar dia punya prioritas (Semacam uruutan) apa yang keluar duluan ."
   ]
  },
  {
   "cell_type": "markdown",
   "metadata": {},
   "source": [
    "### repr vs str\n",
    "\n",
    "`__repr__` --> meant to return ambiguous type   \n",
    "vs    \n",
    "`__str__` --> semacam readable type (mempercantik print method kalo dipanggil pake `print()`    \n",
    "\n",
    "### rule of thumb\n",
    "`__repr__` is for dev    \n",
    "`__str__` is for customer. "
   ]
  },
  {
   "cell_type": "code",
   "execution_count": 6,
   "metadata": {},
   "outputs": [],
   "source": [
    "import sys\n",
    "from dua.generic_search import bfs, Node, node_to_path\n",
    "from typing import Optional\n",
    "\n",
    "city_graph: Graph[str] = Graph([\"Seattle\", \"San Francisco\", \"Los Angeles\", \"Riverside\", \"Phoenix\", \"Chicago\", \"Boston\", \"New York\", \"Atlanta\", \"Miami\", \"Dallas\", \"Houston\", \"Detroit\", \"Philadelphia\", \"Washington\"])\n",
    "city_graph.add_edge_by_vertices(\"Seattle\", \"Chicago\")\n",
    "city_graph.add_edge_by_vertices(\"Seattle\", \"San Francisco\")\n",
    "city_graph.add_edge_by_vertices(\"San Francisco\", \"Riverside\")\n",
    "city_graph.add_edge_by_vertices(\"San Francisco\", \"Los Angeles\")\n",
    "city_graph.add_edge_by_vertices(\"Los Angeles\", \"Riverside\")\n",
    "city_graph.add_edge_by_vertices(\"Los Angeles\", \"Phoenix\")\n",
    "city_graph.add_edge_by_vertices(\"Riverside\", \"Phoenix\")\n",
    "city_graph.add_edge_by_vertices(\"Riverside\", \"Chicago\")\n",
    "city_graph.add_edge_by_vertices(\"Phoenix\", \"Dallas\")\n",
    "city_graph.add_edge_by_vertices(\"Phoenix\", \"Houston\")\n",
    "city_graph.add_edge_by_vertices(\"Dallas\", \"Chicago\")\n",
    "city_graph.add_edge_by_vertices(\"Dallas\", \"Atlanta\")\n",
    "city_graph.add_edge_by_vertices(\"Dallas\", \"Houston\")\n",
    "city_graph.add_edge_by_vertices(\"Houston\", \"Atlanta\")\n",
    "city_graph.add_edge_by_vertices(\"Houston\", \"Miami\")\n",
    "city_graph.add_edge_by_vertices(\"Atlanta\", \"Chicago\")\n",
    "city_graph.add_edge_by_vertices(\"Atlanta\", \"Washington\")\n",
    "city_graph.add_edge_by_vertices(\"Atlanta\", \"Miami\")\n",
    "city_graph.add_edge_by_vertices(\"Miami\", \"Washington\")\n",
    "city_graph.add_edge_by_vertices(\"Chicago\", \"Detroit\")\n",
    "city_graph.add_edge_by_vertices(\"Detroit\", \"Boston\")\n",
    "city_graph.add_edge_by_vertices(\"Detroit\", \"Washington\")\n",
    "city_graph.add_edge_by_vertices(\"Detroit\", \"New York\")\n",
    "city_graph.add_edge_by_vertices(\"Boston\", \"New York\")\n",
    "city_graph.add_edge_by_vertices(\"New York\", \"Philadelphia\")\n",
    "city_graph.add_edge_by_vertices(\"Philadelphia\", \"Washington\")"
   ]
  },
  {
   "cell_type": "code",
   "execution_count": 7,
   "metadata": {},
   "outputs": [
    {
     "name": "stdout",
     "output_type": "stream",
     "text": [
      "Seattle -> ['Chicago', 'San Francisco']San Francisco -> ['Seattle', 'Riverside', 'Los Angeles']Los Angeles -> ['San Francisco', 'Riverside', 'Phoenix']Riverside -> ['San Francisco', 'Los Angeles', 'Phoenix', 'Chicago']Phoenix -> ['Los Angeles', 'Riverside', 'Dallas', 'Houston']Chicago -> ['Seattle', 'Riverside', 'Dallas', 'Atlanta', 'Detroit']Boston -> ['Detroit', 'New York']New York -> ['Detroit', 'Boston', 'Philadelphia']Atlanta -> ['Dallas', 'Houston', 'Chicago', 'Washington', 'Miami']Miami -> ['Houston', 'Atlanta', 'Washington']Dallas -> ['Phoenix', 'Chicago', 'Atlanta', 'Houston']Houston -> ['Phoenix', 'Dallas', 'Atlanta', 'Miami']Detroit -> ['Chicago', 'Boston', 'Washington', 'New York']Philadelphia -> ['New York', 'Washington']Washington -> ['Atlanta', 'Miami', 'Detroit', 'Philadelphia']\n"
     ]
    }
   ],
   "source": [
    "print(city_graph)"
   ]
  },
  {
   "cell_type": "code",
   "execution_count": 9,
   "metadata": {},
   "outputs": [],
   "source": [
    "bfs_result: Optional[Node[V]] =bfs('Boston', lambda x:x=='Miami', city_graph.neighbors_for_vertex)"
   ]
  },
  {
   "cell_type": "code",
   "execution_count": 11,
   "metadata": {},
   "outputs": [
    {
     "name": "stdout",
     "output_type": "stream",
     "text": [
      "Path from Boston to Miami\n",
      "['Boston', 'Washington', 'Miami', 'Detroit']\n"
     ]
    }
   ],
   "source": [
    "if bfs_result is None: \n",
    "    print('No solution found using BFS')\n",
    "else: \n",
    "    path: List[V] = node_to_path(bfs_result)\n",
    "    print('Path from Boston to Miami')\n",
    "    print(path)"
   ]
  },
  {
   "cell_type": "markdown",
   "metadata": {},
   "source": [
    "## Minimum Spanning tree\n",
    "\n",
    "**connected graph**: graph yang salah satu vertex bisa ke salah satu vertex lainnya   \n",
    "**spanning tree**: graph yang salah satu vertex ke *tiap* lainnya   \n",
    "**minimum spanning tree** : graph yang mempunyai weight, dan salah satu vertexnya punya rute menuju vertex lainnya dengan weight terendah.    \n",
    "\n",
    "jadi `mst.py` returns seluruh vertex yang ada di dalam graph, connected to each other, with the lowest weight. \n",
    " "
   ]
  },
  {
   "cell_type": "markdown",
   "metadata": {},
   "source": [
    "### Jarník's Algorithm\n",
    "The algorithm may informally be described as performing the following steps:\n",
    "\n",
    "Initialize a tree with a single vertex, chosen arbitrarily from the graph.\n",
    "Grow the tree by one edge: of the edges that connect the tree to vertices not yet in the tree, find the minimum-weight edge, and transfer it to the tree.\n",
    "Repeat step 2 (until all vertices are in the tree).\n",
    "In more detail, it may be implemented following the pseudocode below.\n",
    "\n",
    "Associate with each vertex v of the graph a number C[v] (the cheapest cost of a connection to v) and an edge E[v] (the edge providing that cheapest connection). To initialize these values, set all values of C[v] to +∞ (or to any number larger than the maximum edge weight) and set each E[v] to a special flag value indicating that there is no edge connecting v to earlier vertices.\n",
    "Initialize an empty forest F and a set Q of vertices that have not yet been included in F (initially, all vertices).\n",
    "Repeat the following steps until Q is empty:\n",
    "Find and remove a vertex v from Q having the minimum possible value of C[v]\n",
    "Add v to F and, if E[v] is not the special flag value, also add E[v] to F\n",
    "Loop over the edges vw connecting v to other vertices w. For each such edge, if w still belongs to Q and vw has smaller weight than C[w], perform the following steps:\n",
    "Set C[w] to the cost of edge vw\n",
    "Set E[w] to point to edge vw.\n",
    "Return F\n",
    "As described above, the starting vertex for the algorithm will be chosen arbitrarily, because the first iteration of the main loop of the algorithm will have a set of vertices in Q that all have equal weights, and the algorithm will automatically start a new tree in F when it completes a spanning tree of each connected component of the input graph. The algorithm may be modified to start with any particular vertex s by setting C[s] to be a number smaller than the other values of C (for instance, zero), and it may be modified to only find a single spanning tree rather than an entire spanning forest (matching more closely the informal description) by stopping whenever it encounters another vertex flagged as having no associated edge.\n",
    "\n",
    "Different variations of the algorithm differ from each other in how the set Q is implemented: as a simple linked list or array of vertices, or as a more complicated priority queue data structure. This choice leads to differences in the time complexity of the algorithm. In general, a priority queue will be quicker at finding the vertex v with minimum cost, but will entail more expensive updates when the value of C[w] changes."
   ]
  },
  {
   "cell_type": "code",
   "execution_count": 19,
   "metadata": {},
   "outputs": [
    {
     "data": {
      "text/html": [
       "<iframe width=\"560\" height=\"315\" src=\"https://www.youtube.com/embed/bxmnOFxKXY0\" frameborder=\"0\" allow=\"accelerometer; autoplay; encrypted-media; gyroscope; picture-in-picture\" allowfullscreen></iframe>\n"
      ],
      "text/plain": [
       "<IPython.core.display.HTML object>"
      ]
     },
     "metadata": {},
     "output_type": "display_data"
    }
   ],
   "source": [
    "%%html\n",
    "<iframe width=\"560\" height=\"315\" src=\"https://www.youtube.com/embed/bxmnOFxKXY0\" frameborder=\"0\" allow=\"accelerometer; autoplay; encrypted-media; gyroscope; picture-in-picture\" allowfullscreen></iframe>"
   ]
  },
  {
   "cell_type": "code",
   "execution_count": 23,
   "metadata": {},
   "outputs": [],
   "source": [
    "# %load empat/mst.py\n",
    "\n",
    "from typing import TypeVar, List, Optional\n",
    "from weighted_edge import WeightedEdge\n",
    "from weighted_graph  import WeightedGraph\n",
    "\n",
    "import sys\n",
    "sys.path.insert(0,'..')\n",
    "from dua.generic_search import PriorityQueue\n",
    "\n",
    "V = TypeVar('V')\n",
    "WeightedPath = List[WeightedEdge] # type alias brai \n",
    "\n",
    "def total_weight(wp: WeightedPath) -> float: \n",
    "    return sum([e.weight for e in wp])\n",
    "\n",
    "\n",
    "def mst(wg: WeightedGraph[V], start: int = 0) -> Optional[WeightedPath]: \n",
    "    if start > (wg.vertex_count - 1) or start < 0: \n",
    "        return None \n",
    "\n",
    "    result: WeightedPath = [] #final mst nya \n",
    "    pq: PriorityQueue[WeightedEdge] = PriorityQueue()\n",
    "    visited: [bool] = [False] * wg.vertex_count # check apakah sudah di visit\n",
    "\n",
    "    def visit(index: int): \n",
    "        visited[index] = True #mark as visited\n",
    "        for edge in wg.edges_for_index(index): \n",
    "            # add all edges coming from here to priorityqueue\n",
    "            if not visited[edge.v]: \n",
    "                pq.push(edge)\n",
    "\n",
    "    visit(start) # the first vertex\n",
    "    while not pq.empty: \n",
    "        edge=pq.pop()\n",
    "\n",
    "        if visited[edge.v]: \n",
    "            continue # don't revisit kalo udah divisit\n",
    "        \n",
    "        result.append(edge)\n",
    "        visit(edge.v)\n",
    "    return result\n",
    "\n",
    "def print_weighted_path(wg: WeightedGraph, wp:WeightedPath) -> None: \n",
    "    for edge in wp: \n",
    "        print(f'{wg.vertex_at(edge.u)} {edge.weight} -> {wg.vertex_at(edge.v)}')\n",
    "    print(f'Total weight: {total_weight(wp)}')\n",
    "\n",
    "\n",
    "\n",
    "if __name__ == \"__main__\":\n",
    "    city_graph2: WeightedGraph[str] = WeightedGraph([\"Seattle\", \"San Francisco\", \"Los Angeles\", \"Riverside\", \"Phoenix\", \"Chicago\", \"Boston\", \"New York\", \"Atlanta\", \"Miami\", \"Dallas\", \"Houston\", \"Detroit\", \"Philadelphia\", \"Washington\"])\n",
    "\n",
    "    city_graph2.add_edge_by_vertices(\"Seattle\", \"Chicago\", 1737)\n",
    "    city_graph2.add_edge_by_vertices(\"Seattle\", \"San Francisco\", 678)\n",
    "    city_graph2.add_edge_by_vertices(\"San Francisco\", \"Riverside\", 386)\n",
    "    city_graph2.add_edge_by_vertices(\"San Francisco\", \"Los Angeles\", 348)\n",
    "    city_graph2.add_edge_by_vertices(\"Los Angeles\", \"Riverside\", 50)\n",
    "    city_graph2.add_edge_by_vertices(\"Los Angeles\", \"Phoenix\", 357)\n",
    "    city_graph2.add_edge_by_vertices(\"Riverside\", \"Phoenix\", 307)\n",
    "    city_graph2.add_edge_by_vertices(\"Riverside\", \"Chicago\", 1704)\n",
    "    city_graph2.add_edge_by_vertices(\"Phoenix\", \"Dallas\", 887)\n",
    "    city_graph2.add_edge_by_vertices(\"Phoenix\", \"Houston\", 1015)\n",
    "    city_graph2.add_edge_by_vertices(\"Dallas\", \"Chicago\", 805)\n",
    "    city_graph2.add_edge_by_vertices(\"Dallas\", \"Atlanta\", 721)\n",
    "    city_graph2.add_edge_by_vertices(\"Dallas\", \"Houston\", 225)\n",
    "    city_graph2.add_edge_by_vertices(\"Houston\", \"Atlanta\", 702)\n",
    "    city_graph2.add_edge_by_vertices(\"Houston\", \"Miami\", 968)\n",
    "    city_graph2.add_edge_by_vertices(\"Atlanta\", \"Chicago\", 588)\n",
    "    city_graph2.add_edge_by_vertices(\"Atlanta\", \"Washington\", 543)\n",
    "    city_graph2.add_edge_by_vertices(\"Atlanta\", \"Miami\", 604)\n",
    "    city_graph2.add_edge_by_vertices(\"Miami\", \"Washington\", 923)\n",
    "    city_graph2.add_edge_by_vertices(\"Chicago\", \"Detroit\", 238)\n",
    "    city_graph2.add_edge_by_vertices(\"Detroit\", \"Boston\", 613)\n",
    "    city_graph2.add_edge_by_vertices(\"Detroit\", \"Washington\", 396)\n",
    "    city_graph2.add_edge_by_vertices(\"Detroit\", \"New York\", 482)\n",
    "    city_graph2.add_edge_by_vertices(\"Boston\", \"New York\", 190)\n",
    "    city_graph2.add_edge_by_vertices(\"New York\", \"Philadelphia\", 81)\n",
    "    city_graph2.add_edge_by_vertices(\"Philadelphia\", \"Washington\", 123)\n",
    "\n",
    "    result: Optional[WeightedPath] = mst(city_graph2)\n",
    "\n",
    "    if result is None: \n",
    "        print('no solution found')\n",
    "    else: \n",
    "        print_weighted_path(city_graph2, result)\n"
   ]
  },
  {
   "cell_type": "code",
   "execution_count": 24,
   "metadata": {},
   "outputs": [
    {
     "name": "stdout",
     "output_type": "stream",
     "text": [
      "Seattle 678 -> San Francisco\n",
      "San Francisco 348 -> Los Angeles\n",
      "Los Angeles 50 -> Riverside\n",
      "Riverside 307 -> Phoenix\n",
      "Phoenix 887 -> Dallas\n",
      "Dallas 225 -> Houston\n",
      "Houston 702 -> Atlanta\n",
      "Atlanta 543 -> Washington\n",
      "Washington 123 -> Philadelphia\n",
      "Philadelphia 81 -> New York\n",
      "New York 190 -> Boston\n",
      "Washington 396 -> Detroit\n",
      "Detroit 238 -> Chicago\n",
      "Atlanta 604 -> Miami\n",
      "Total weight: 5372\n"
     ]
    }
   ],
   "source": [
    "%run empat/mst.py"
   ]
  },
  {
   "cell_type": "markdown",
   "metadata": {},
   "source": [
    "## Dijkstra Algorithm \n",
    "finding the shortest path from vertex a to vertex b    \n",
    "\n",
    "### algorithm \n",
    "1. add vertex to priority queue\n",
    "2. pop closest vertex from priority queue\n",
    "3. find the lowest weighted vertex from the current closest vertex, then push the new vertex to priority queue\n",
    "4. repeat 2&3 until the other priority queue is empty \n",
    "5. return shortest distance to every vertex from the starting vertex, and path. \n"
   ]
  },
  {
   "cell_type": "code",
   "execution_count": 12,
   "metadata": {},
   "outputs": [],
   "source": [
    "# %load empat/dijkstra.py\n",
    "from __future__ import annotations\n",
    "from typing import TypeVar, List, Optional, Tuple, Dict\n",
    "from dataclasses import dataclass\n",
    "from mst import WeightedPath, print_weighted_path\n",
    "from weighted_graph import WeightedGraph\n",
    "from weighted_edge import WeightedEdge\n",
    "from priority_queue import PriorityQueue\n",
    "\n",
    "V = TypeVar('V')\n",
    "\n",
    "@dataclass\n",
    "class DijkstraNode: \n",
    "    vertex: int\n",
    "    distance: float\n",
    "\n",
    "    def __lt__(self, other: DijkstraNode) -> bool: \n",
    "        return self.distance < other.distance\n",
    "\n",
    "    def __eq__(self, other: DijkstraNode) -> bool: \n",
    "        return self.distance == other.distance\n",
    "\n",
    "def dijkstra(wg: WeightedEdge[V], root: V):\n",
    "    first: int = wg.index_of(root) # find starting index, dari root, passed from parameter di atas bray \n",
    "    distances: List[Optional[float]] = [None] * wg.vertex_count\n",
    "    distances[first] = 0 # distance dari root ke root ya 0 \n",
    "    \n",
    "    path_dict: Dict[int, WeightedEdge] = {} # yang save path nya dari current ke tujuan\n",
    "\n",
    "    pq: PriorityQueue[DijkstraNode] = PriorityQueue()\n",
    "    pq.push(DijkstraNode(first, 0)) # masukin current vertex / starting point \n",
    "\n",
    "\n",
    "    while not pq.empty: \n",
    "        u: int = pq.pop().vertex # explore the next closest vertex\n",
    "\n",
    "        dist_u: float = distances[u]\n",
    "\n",
    "        for we in wg.edges_for_index(u): \n",
    "            dist_v = distances[we.v]\n",
    "\n",
    "            if dist_v is None or dist_v > we.weight + dist_u: \n",
    "                # update distance to this vertex\n",
    "                distances[we.v] = we.weight + dist_u\n",
    "                # update the edge on the shortest path to this vertex. \n",
    "                path_dict[we.v] = we\n",
    "\n",
    "                # exlore it soon? \n",
    "                pq.push(DijkstraNode(we.v, we.weight + dist_u))\n",
    "\n",
    "    return distances, path_dict\n",
    "\n",
    "# helper function to print dijkstra results \n",
    "def distance_array_to_vertex_dict(wg: WeightedGraph[V], distances: List[Optional[float]]) -> Dict[V, Optional[float]]: \n",
    "    distance_dict: Dict[V, Optional[float]] = {}\n",
    "    for i in range(len(distances)): \n",
    "        distance_dict[wg.vertex_at(i)] = distances[i]\n",
    "    return distance_dict\n",
    "\n",
    "\n",
    "# helper function that prints 'start' to 'end'\n",
    "def path_dict_to_path(start: int, end: int, path_dict: Dict[int, WeightedEdge]) -> WeightedPath: \n",
    "    if len(path_dict) == 0: \n",
    "        return []\n",
    "    edge_path: WeightedPath = []\n",
    "    e: WeightedEdge = path_dict[end]\n",
    "    edge_path.append(e)\n",
    "    while e.u != start: \n",
    "        e = path_dict[e.u]\n",
    "        edge_path.append(e)\n",
    "    return list(reversed(edge_path))"
   ]
  },
  {
   "cell_type": "markdown",
   "metadata": {},
   "source": [
    "## DIJKSTRA VERTEX STILL ERROR ON pq.pop().vertex"
   ]
  },
  {
   "cell_type": "markdown",
   "metadata": {},
   "source": [
    "# chapter 5: genetic Algorithm"
   ]
  },
  {
   "cell_type": "code",
   "execution_count": null,
   "metadata": {},
   "outputs": [],
   "source": []
  }
 ],
 "metadata": {
  "kernelspec": {
   "display_name": "Python 3",
   "language": "python",
   "name": "python3"
  },
  "language_info": {
   "codemirror_mode": {
    "name": "ipython",
    "version": 3
   },
   "file_extension": ".py",
   "mimetype": "text/x-python",
   "name": "python",
   "nbconvert_exporter": "python",
   "pygments_lexer": "ipython3",
   "version": "3.7.3"
  }
 },
 "nbformat": 4,
 "nbformat_minor": 2
}

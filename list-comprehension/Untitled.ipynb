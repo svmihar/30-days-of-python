{
 "cells": [
  {
   "cell_type": "markdown",
   "metadata": {},
   "source": [
    "# List Comprehension"
   ]
  },
  {
   "cell_type": "markdown",
   "metadata": {},
   "source": [
    "## zip \n",
    "loop 2 iterables at the same time    \n",
    "zip stops at the shortest length of the array   "
   ]
  },
  {
   "cell_type": "code",
   "execution_count": 1,
   "metadata": {},
   "outputs": [
    {
     "data": {
      "text/plain": [
       "\u001b[0;31mInit signature:\u001b[0m \u001b[0mzip\u001b[0m\u001b[0;34m(\u001b[0m\u001b[0mself\u001b[0m\u001b[0;34m,\u001b[0m \u001b[0;34m/\u001b[0m\u001b[0;34m,\u001b[0m \u001b[0;34m*\u001b[0m\u001b[0margs\u001b[0m\u001b[0;34m,\u001b[0m \u001b[0;34m**\u001b[0m\u001b[0mkwargs\u001b[0m\u001b[0;34m)\u001b[0m\u001b[0;34m\u001b[0m\u001b[0;34m\u001b[0m\u001b[0m\n",
       "\u001b[0;31mDocstring:\u001b[0m     \n",
       "zip(iter1 [,iter2 [...]]) --> zip object\n",
       "\n",
       "Return a zip object whose .__next__() method returns a tuple where\n",
       "the i-th element comes from the i-th iterable argument.  The .__next__()\n",
       "method continues until the shortest iterable in the argument sequence\n",
       "is exhausted and then it raises StopIteration.\n",
       "\u001b[0;31mType:\u001b[0m           type\n",
       "\u001b[0;31mSubclasses:\u001b[0m     \n"
      ]
     },
     "metadata": {},
     "output_type": "display_data"
    }
   ],
   "source": [
    "zip?"
   ]
  },
  {
   "cell_type": "code",
   "execution_count": 3,
   "metadata": {},
   "outputs": [
    {
     "name": "stdout",
     "output_type": "stream",
     "text": [
      "i have 3 birds\n",
      "i have 2 cats\n",
      "i have 1 dogs\n"
     ]
    }
   ],
   "source": [
    "animals = {\n",
    "    'birds':3, \n",
    "    'cats':2, \n",
    "    'dogs':1\n",
    "}\n",
    "\n",
    "for item in animals: \n",
    "    print(f'i have {animals[item]} {item}')"
   ]
  },
  {
   "cell_type": "code",
   "execution_count": 5,
   "metadata": {},
   "outputs": [
    {
     "name": "stdout",
     "output_type": "stream",
     "text": [
      "i have birds 3\n",
      "i have cats 2\n",
      "i have dogs 1\n"
     ]
    }
   ],
   "source": [
    "for key, value in animals.items(): \n",
    "    print(f'i have {key} {value}')"
   ]
  },
  {
   "cell_type": "markdown",
   "metadata": {},
   "source": [
    "## enumerate\n",
    "if you need index"
   ]
  },
  {
   "cell_type": "markdown",
   "metadata": {},
   "source": [
    "## List Comprehension"
   ]
  },
  {
   "cell_type": "code",
   "execution_count": 6,
   "metadata": {},
   "outputs": [],
   "source": [
    "fav = [2,3,5,1,7,8,4,3]"
   ]
  },
  {
   "cell_type": "code",
   "execution_count": 7,
   "metadata": {},
   "outputs": [],
   "source": [
    "doubled = []"
   ]
  },
  {
   "cell_type": "markdown",
   "metadata": {},
   "source": [
    "cara biasa"
   ]
  },
  {
   "cell_type": "code",
   "execution_count": 8,
   "metadata": {},
   "outputs": [],
   "source": [
    "for i in fav: \n",
    "    doubled.append(i*2)"
   ]
  },
  {
   "cell_type": "code",
   "execution_count": 9,
   "metadata": {},
   "outputs": [
    {
     "data": {
      "text/plain": [
       "[4, 6, 10, 2, 14, 16, 8, 6]"
      ]
     },
     "execution_count": 9,
     "metadata": {},
     "output_type": "execute_result"
    }
   ],
   "source": [
    "doubled"
   ]
  },
  {
   "cell_type": "code",
   "execution_count": 10,
   "metadata": {},
   "outputs": [],
   "source": [
    "doubled.clear()"
   ]
  },
  {
   "cell_type": "markdown",
   "metadata": {},
   "source": [
    "list comp    \n",
    "meant for building list! bukan looping! "
   ]
  },
  {
   "cell_type": "code",
   "execution_count": 11,
   "metadata": {},
   "outputs": [],
   "source": [
    "doubled = [n*2 for n in fav]"
   ]
  },
  {
   "cell_type": "code",
   "execution_count": 12,
   "metadata": {},
   "outputs": [
    {
     "data": {
      "text/plain": [
       "[4, 6, 10, 2, 14, 16, 8, 6]"
      ]
     },
     "execution_count": 12,
     "metadata": {},
     "output_type": "execute_result"
    }
   ],
   "source": [
    "doubled"
   ]
  },
  {
   "cell_type": "markdown",
   "metadata": {},
   "source": [
    "conditional list comprehension"
   ]
  },
  {
   "cell_type": "code",
   "execution_count": 17,
   "metadata": {},
   "outputs": [
    {
     "data": {
      "text/plain": [
       "[6, 10, 2, 14, 6]"
      ]
     },
     "execution_count": 17,
     "metadata": {},
     "output_type": "execute_result"
    }
   ],
   "source": [
    "[n*2 for n in fav if n%2 == 1]"
   ]
  },
  {
   "cell_type": "markdown",
   "metadata": {},
   "source": [
    "map   \n",
    "functional style programming"
   ]
  },
  {
   "cell_type": "code",
   "execution_count": 13,
   "metadata": {},
   "outputs": [
    {
     "data": {
      "text/plain": [
       "<map at 0x10833bd68>"
      ]
     },
     "execution_count": 13,
     "metadata": {},
     "output_type": "execute_result"
    }
   ],
   "source": [
    "map(lambda n:n*2, fav)"
   ]
  },
  {
   "cell_type": "code",
   "execution_count": 14,
   "metadata": {},
   "outputs": [
    {
     "data": {
      "text/plain": [
       "[4, 6, 10, 2, 14, 16, 8, 6]"
      ]
     },
     "execution_count": 14,
     "metadata": {},
     "output_type": "execute_result"
    }
   ],
   "source": [
    "list(map(lambda n:n*2, fav))"
   ]
  },
  {
   "cell_type": "code",
   "execution_count": 54,
   "metadata": {},
   "outputs": [
    {
     "name": "stdout",
     "output_type": "stream",
     "text": [
      "Overwriting exercises/lists.py\n"
     ]
    }
   ],
   "source": [
    "%%writefile exercises/lists.py\n",
    "# %load exercises/lists.py\n",
    "\"\"\"List comprehension exercises\"\"\"\n",
    "\n",
    "\n",
    "def get_vowel_names(names):\n",
    "    \"\"\"Return a list containing all names given that start with a vowel.\"\"\"\n",
    "    return [a for a in names if a[0].upper() in 'AIUEO']\n",
    "\n",
    "\n",
    "def power_list(fav):\n",
    "    \"\"\"Return a list that contains each number raised to the i-th power.\"\"\"\n",
    "    return [\n",
    "        num**i \n",
    "            for i, num in enumerate(fav)\n",
    "    ]\n",
    "\n",
    "  \n",
    "def flatten(matrix):\n",
    "    \"\"\"Return a flattened version of the given 2-D matrix (list-of-lists).\"\"\"\n",
    "    return [item \n",
    "            for row in matrix \n",
    "                for item in row  # this in only an alignment\n",
    "           ]\n",
    "\n",
    "def reverse_difference(matrix):\n",
    "    \"\"\"Return list subtracted from the reverse of itself.\"\"\"\n",
    "    return [\n",
    "        [-n for n in row]\n",
    "        for row in matrix\n",
    "    ]\n",
    "    \n",
    "\n",
    "def matrix_add():\n",
    "    \"\"\"Add corresponding numbers in given 2-D matrices.\"\"\"\n",
    "    pass\n",
    "\n",
    "\n",
    "def transpose():\n",
    "    \"\"\"Return a transposed version of given list of lists.\"\"\"\n",
    "    pass\n",
    "\n",
    "\n",
    "def get_factors():\n",
    "    \"\"\"Return a list of all factors of the given number.\"\"\"\n",
    "    pass\n",
    "\n",
    "\n",
    "def triples():\n",
    "    \"\"\"Return list of Pythagorean triples less than input num.\"\"\"\n",
    "    pass\n",
    "\n"
   ]
  },
  {
   "cell_type": "code",
   "execution_count": 48,
   "metadata": {},
   "outputs": [],
   "source": [
    "# %load exercises/lists_test.py\n",
    "\"\"\"Tests for list comprehension exercises\"\"\"\n",
    "from copy import deepcopy\n",
    "import unittest\n",
    "\n",
    "from lists import (get_vowel_names, power_list, flatten, reverse_difference,\n",
    "                   matrix_add, transpose, get_factors, triples)\n",
    "\n",
    "\n",
    "class GetVowelNamesTests(unittest.TestCase):\n",
    "\n",
    "    \"\"\"Tests for get_vowel_names.\"\"\"\n",
    "\n",
    "    def test_one_vowel_name(self):\n",
    "        names = [\"Alice\", \"Bob\", \"Christy\", \"Jules\"]\n",
    "        self.assertEqual(get_vowel_names(names), [\"Alice\"])\n",
    "\n",
    "    def test_multiple_vowel_names(self):\n",
    "        names = [\"Scott\", \"arthur\", \"Jan\", \"Elizabeth\"]\n",
    "        self.assertEqual(get_vowel_names(names), [\"arthur\", \"Elizabeth\"])\n",
    "\n",
    "    def test_empty(self):\n",
    "        self.assertEqual(get_vowel_names([]), [])\n",
    "\n",
    "\n",
    "class PowerListTests(unittest.TestCase):\n",
    "\n",
    "    \"\"\"Tests for power_list.\"\"\"\n",
    "\n",
    "    def test_integers(self):\n",
    "        self.assertEqual(power_list([3, 2, 5]), [1, 2, 25])\n",
    "\n",
    "    def test_floats(self):\n",
    "        inputs = [78, 700, 82, 16, 2, 3, 9.5]\n",
    "        outputs = [1, 700, 6724, 4096, 16, 243, 735091.890625]\n",
    "        self.assertEqual(power_list(inputs), outputs)\n",
    "\n",
    "\n",
    "class FlattenTests(unittest.TestCase):\n",
    "\n",
    "    \"\"\"Tests for flatten.\"\"\"\n",
    "\n",
    "    def test_3_by_4_matrix(self):\n",
    "        matrix = [[row * 3 + incr for incr in range(1, 4)] for row in range(4)]\n",
    "        flattened = [1, 2, 3, 4, 5, 6, 7, 8, 9, 10, 11, 12]\n",
    "        self.assertEqual(flatten(matrix), flattened)\n",
    "\n",
    "\n",
    "class ReverseDifferenceTests(unittest.TestCase):\n",
    "\n",
    "    \"\"\"Tests for reverse_difference.\"\"\"\n",
    "\n",
    "    def test_empty(self):\n",
    "        self.assertEqual(reverse_difference([]), [])\n",
    "\n",
    "    def test_one(self):\n",
    "        self.assertEqual(reverse_difference([1]), [0])\n",
    "\n",
    "    def test_two(self):\n",
    "        self.assertEqual(reverse_difference([0, 0]), [0, 0])\n",
    "\n",
    "    def test_three(self):\n",
    "        self.assertEqual(reverse_difference([3, 2, 1]), [2, 0, -2])\n",
    "\n",
    "    def test_four(self):\n",
    "        self.assertEqual(reverse_difference([9, 8, 7, 6]), [3, 1, -1, -3])\n",
    "\n",
    "    def test_five(self):\n",
    "        inputs = [1, 2, 3, 4, 5]\n",
    "        outputs = [-4, -2, 0, 2, 4]\n",
    "        self.assertEqual(reverse_difference(inputs), outputs)\n",
    "\n",
    "\n",
    "class MatrixAddTests(unittest.TestCase):\n",
    "\n",
    "    \"\"\"Tests for matrix_add.\"\"\"\n",
    "\n",
    "    def test_single_items(self):\n",
    "        self.assertEqual(matrix_add([[5]], [[-2]]), [[3]])\n",
    "\n",
    "    def test_two_by_two_matrixes(self):\n",
    "        m1 = [[6, 6], [3, 1]]\n",
    "        m2 = [[1, 2], [3, 4]]\n",
    "        m3 = [[7, 8], [6, 5]]\n",
    "        self.assertEqual(matrix_add(m1, m2), m3)\n",
    "\n",
    "    def test_two_by_three_matrixes(self):\n",
    "        m1 = [[1, 2, 3], [4, 5, 6]]\n",
    "        m2 = [[-1, -2, -3], [-4, -5, -6]]\n",
    "        m3 = [[0, 0, 0], [0, 0, 0]]\n",
    "        self.assertEqual(matrix_add(m1, m2), m3)\n",
    "\n",
    "    def test_input_unchanged(self):\n",
    "        m1 = [[6, 6], [3, 1]]\n",
    "        m2 = [[1, 2], [3, 4]]\n",
    "        m1_original = deepcopy(m1)\n",
    "        m2_original = deepcopy(m2)\n",
    "        matrix_add(m1, m2)\n",
    "        self.assertEqual(m1, m1_original)\n",
    "        self.assertEqual(m2, m2_original)\n",
    "\n",
    "\n",
    "class TransposeTests(unittest.TestCase):\n",
    "\n",
    "    \"\"\"Tests for transpose.\"\"\"\n",
    "\n",
    "    def test_empty(self):\n",
    "        self.assertEqual(transpose([]), [])\n",
    "\n",
    "    def test_single_item(self):\n",
    "        self.assertEqual(transpose([[1]]), [[1]])\n",
    "\n",
    "    def test_two_rows(self):\n",
    "        self.assertEqual(transpose([[1, 2], [3, 4]]), [[1, 3], [2, 4]])\n",
    "\n",
    "    def test_three_rows(self):\n",
    "        inputs = [[1, 2, 3], [4, 5, 6], [7, 8, 9]]\n",
    "        outputs = [[1, 4, 7], [2, 5, 8], [3, 6, 9]]\n",
    "        self.assertEqual(transpose(inputs), outputs)\n",
    "\n",
    "\n",
    "class GetFactorsTests(unittest.TestCase):\n",
    "\n",
    "    \"\"\"Tests for get_factors.\"\"\"\n",
    "\n",
    "    def test_2(self):\n",
    "        self.assertEqual(get_factors(2), [1, 2])\n",
    "\n",
    "    def test_6(self):\n",
    "        self.assertEqual(get_factors(6), [1, 2, 3, 6])\n",
    "\n",
    "    def test_100(self):\n",
    "        self.assertEqual(get_factors(100), [1, 2, 4, 5, 10, 20, 25, 50, 100])\n",
    "\n",
    "\n",
    "class TriplesTests(unittest.TestCase):\n",
    "\n",
    "    \"\"\"Tests for triples.\"\"\"\n",
    "\n",
    "    def test_triples_1(self):\n",
    "        expected = []\n",
    "        self.assertEqual(triples(1), expected)\n",
    "\n",
    "    def test_triples_6(self):\n",
    "        expected = [(3, 4, 5)]\n",
    "        self.assertEqual(triples(6), expected)\n",
    "\n",
    "    def test_triples_25(self):\n",
    "        expected = [(3, 4, 5), (5, 12, 13), (6, 8, 10), (8, 15, 17),\n",
    "                    (9, 12, 15), (12, 16, 20)]\n",
    "        self.assertEqual(triples(25), expected)\n",
    "\n",
    "\n",
    "if __name__ == \"__main__\":\n",
    "    unittest.main()\n"
   ]
  },
  {
   "cell_type": "code",
   "execution_count": null,
   "metadata": {},
   "outputs": [],
   "source": []
  }
 ],
 "metadata": {
  "kernelspec": {
   "display_name": "Python 3",
   "language": "python",
   "name": "python3"
  },
  "language_info": {
   "codemirror_mode": {
    "name": "ipython",
    "version": 3
   },
   "file_extension": ".py",
   "mimetype": "text/x-python",
   "name": "python",
   "nbconvert_exporter": "python",
   "pygments_lexer": "ipython3",
   "version": "3.7.3"
  }
 },
 "nbformat": 4,
 "nbformat_minor": 4
}

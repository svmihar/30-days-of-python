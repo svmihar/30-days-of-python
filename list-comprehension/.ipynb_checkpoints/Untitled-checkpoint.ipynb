{
 "cells": [
  {
   "cell_type": "markdown",
   "metadata": {},
   "source": [
    "# List Comprehension"
   ]
  },
  {
   "cell_type": "markdown",
   "metadata": {},
   "source": [
    "## zip \n",
    "loop 2 iterables at the same time    \n",
    "zip stops at the shortest length of the array   "
   ]
  },
  {
   "cell_type": "code",
   "execution_count": 1,
   "metadata": {},
   "outputs": [
    {
     "data": {
      "text/plain": [
       "\u001b[0;31mInit signature:\u001b[0m \u001b[0mzip\u001b[0m\u001b[0;34m(\u001b[0m\u001b[0mself\u001b[0m\u001b[0;34m,\u001b[0m \u001b[0;34m/\u001b[0m\u001b[0;34m,\u001b[0m \u001b[0;34m*\u001b[0m\u001b[0margs\u001b[0m\u001b[0;34m,\u001b[0m \u001b[0;34m**\u001b[0m\u001b[0mkwargs\u001b[0m\u001b[0;34m)\u001b[0m\u001b[0;34m\u001b[0m\u001b[0;34m\u001b[0m\u001b[0m\n",
       "\u001b[0;31mDocstring:\u001b[0m     \n",
       "zip(iter1 [,iter2 [...]]) --> zip object\n",
       "\n",
       "Return a zip object whose .__next__() method returns a tuple where\n",
       "the i-th element comes from the i-th iterable argument.  The .__next__()\n",
       "method continues until the shortest iterable in the argument sequence\n",
       "is exhausted and then it raises StopIteration.\n",
       "\u001b[0;31mType:\u001b[0m           type\n",
       "\u001b[0;31mSubclasses:\u001b[0m     \n"
      ]
     },
     "metadata": {},
     "output_type": "display_data"
    }
   ],
   "source": [
    "zip?"
   ]
  },
  {
   "cell_type": "code",
   "execution_count": 3,
   "metadata": {},
   "outputs": [
    {
     "name": "stdout",
     "output_type": "stream",
     "text": [
      "i have 3 birds\n",
      "i have 2 cats\n",
      "i have 1 dogs\n"
     ]
    }
   ],
   "source": [
    "animals = {\n",
    "    'birds':3, \n",
    "    'cats':2, \n",
    "    'dogs':1\n",
    "}\n",
    "\n",
    "for item in animals: \n",
    "    print(f'i have {animals[item]} {item}')"
   ]
  },
  {
   "cell_type": "code",
   "execution_count": 5,
   "metadata": {},
   "outputs": [
    {
     "name": "stdout",
     "output_type": "stream",
     "text": [
      "i have birds 3\n",
      "i have cats 2\n",
      "i have dogs 1\n"
     ]
    }
   ],
   "source": [
    "for key, value in animals.items(): \n",
    "    print(f'i have {key} {value}')"
   ]
  },
  {
   "cell_type": "markdown",
   "metadata": {},
   "source": [
    "## enumerate\n",
    "if you need index"
   ]
  },
  {
   "cell_type": "markdown",
   "metadata": {},
   "source": [
    "## List Comprehension"
   ]
  },
  {
   "cell_type": "code",
   "execution_count": 6,
   "metadata": {},
   "outputs": [],
   "source": [
    "fav = [2,3,5,1,7,8,4,3]"
   ]
  },
  {
   "cell_type": "code",
   "execution_count": 7,
   "metadata": {},
   "outputs": [],
   "source": [
    "doubled = []"
   ]
  },
  {
   "cell_type": "markdown",
   "metadata": {},
   "source": [
    "cara biasa"
   ]
  },
  {
   "cell_type": "code",
   "execution_count": 8,
   "metadata": {},
   "outputs": [],
   "source": [
    "for i in fav: \n",
    "    doubled.append(i*2)"
   ]
  },
  {
   "cell_type": "code",
   "execution_count": 9,
   "metadata": {},
   "outputs": [
    {
     "data": {
      "text/plain": [
       "[4, 6, 10, 2, 14, 16, 8, 6]"
      ]
     },
     "execution_count": 9,
     "metadata": {},
     "output_type": "execute_result"
    }
   ],
   "source": [
    "doubled"
   ]
  },
  {
   "cell_type": "code",
   "execution_count": 10,
   "metadata": {},
   "outputs": [],
   "source": [
    "doubled.clear()"
   ]
  },
  {
   "cell_type": "markdown",
   "metadata": {},
   "source": [
    "list comp    \n",
    "meant for building list! bukan looping! "
   ]
  },
  {
   "cell_type": "code",
   "execution_count": 11,
   "metadata": {},
   "outputs": [],
   "source": [
    "doubled = [n*2 for n in fav]"
   ]
  },
  {
   "cell_type": "code",
   "execution_count": 12,
   "metadata": {},
   "outputs": [
    {
     "data": {
      "text/plain": [
       "[4, 6, 10, 2, 14, 16, 8, 6]"
      ]
     },
     "execution_count": 12,
     "metadata": {},
     "output_type": "execute_result"
    }
   ],
   "source": [
    "doubled"
   ]
  },
  {
   "cell_type": "markdown",
   "metadata": {},
   "source": [
    "conditional list comprehension"
   ]
  },
  {
   "cell_type": "code",
   "execution_count": 17,
   "metadata": {},
   "outputs": [
    {
     "data": {
      "text/plain": [
       "[6, 10, 2, 14, 6]"
      ]
     },
     "execution_count": 17,
     "metadata": {},
     "output_type": "execute_result"
    }
   ],
   "source": [
    "[n*2 for n in fav if n%2 == 1]"
   ]
  },
  {
   "cell_type": "markdown",
   "metadata": {},
   "source": [
    "map   \n",
    "functional style programming"
   ]
  },
  {
   "cell_type": "code",
   "execution_count": 13,
   "metadata": {},
   "outputs": [
    {
     "data": {
      "text/plain": [
       "<map at 0x10833bd68>"
      ]
     },
     "execution_count": 13,
     "metadata": {},
     "output_type": "execute_result"
    }
   ],
   "source": [
    "map(lambda n:n*2, fav)"
   ]
  },
  {
   "cell_type": "code",
   "execution_count": 14,
   "metadata": {},
   "outputs": [
    {
     "data": {
      "text/plain": [
       "[4, 6, 10, 2, 14, 16, 8, 6]"
      ]
     },
     "execution_count": 14,
     "metadata": {},
     "output_type": "execute_result"
    }
   ],
   "source": [
    "list(map(lambda n:n*2, fav))"
   ]
  },
  {
   "cell_type": "code",
   "execution_count": 92,
   "metadata": {},
   "outputs": [],
   "source": [
    "# %%writefile exercises/lists.py\n",
    "# %load exercises/lists.py\n",
    "\"\"\"List comprehension exercises\"\"\"\n",
    "\n",
    "\n",
    "def get_vowel_names(names):\n",
    "    \"\"\"Return a list containing all names given that start with a vowel.\"\"\"\n",
    "    return [a for a in names if a[0].upper() in 'AIUEO']\n",
    "\n",
    "\n",
    "def power_list(fav):\n",
    "    \"\"\"Return a list that contains each number raised to the i-th power.\"\"\"\n",
    "    return [\n",
    "        num**i \n",
    "            for i, num in enumerate(fav)\n",
    "    ]\n",
    "\n",
    "  \n",
    "def flatten(matrix):\n",
    "    \"\"\"Return a flattened version of the given 2-D matrix (list-of-lists).\"\"\"\n",
    "    return [item \n",
    "            for row in matrix \n",
    "                for item in row  # this in only an alignment\n",
    "           ]\n",
    "\n",
    "def reverse_difference(matrix):\n",
    "    \"\"\"Return list subtracted from the reverse of itself.\"\"\"\n",
    "    return [\n",
    "        [-n for n in row]\n",
    "        for row in matrix\n",
    "    ]\n",
    "    \n",
    "\n",
    "def matrix_add():\n",
    "    \"\"\"Add corresponding numbers in given 2-D matrices.\"\"\"\n",
    "    pass\n",
    "\n",
    "\n",
    "def transpose():\n",
    "    \"\"\"Return a transposed version of given list of lists.\"\"\"\n",
    "    pass\n",
    "\n",
    "\n",
    "def get_factors():\n",
    "    \"\"\"Return a list of all factors of the given number.\"\"\"\n",
    "    pass\n",
    "\n",
    "\n",
    "def triples():\n",
    "    \"\"\"Return list of Pythagorean triples less than input num.\"\"\"\n",
    "    pass\n",
    "\n"
   ]
  },
  {
   "cell_type": "markdown",
   "metadata": {},
   "source": [
    "## GENERATORS! \n",
    "Some kind of pez dispenser, one time loop only.    \n",
    "[good explanation here by trey hunner](https://treyhunner.com/2019/06/loop-better-a-deeper-look-at-iteration-in-python/?utm_campaign=loop-better-a-deeper-look-at-iteration-in-python&utm_medium=social_link&utm_source=missinglettr)"
   ]
  },
  {
   "cell_type": "code",
   "execution_count": 80,
   "metadata": {},
   "outputs": [],
   "source": [
    "numbers = [1,2,3,4,5,9,6]"
   ]
  },
  {
   "cell_type": "code",
   "execution_count": 81,
   "metadata": {},
   "outputs": [],
   "source": [
    "squares = (n**2 for n in numbers)"
   ]
  },
  {
   "cell_type": "code",
   "execution_count": 82,
   "metadata": {},
   "outputs": [
    {
     "data": {
      "text/plain": [
       "<generator object <genexpr> at 0x1087a1ed0>"
      ]
     },
     "execution_count": 82,
     "metadata": {},
     "output_type": "execute_result"
    }
   ],
   "source": [
    "squares"
   ]
  },
  {
   "cell_type": "code",
   "execution_count": 83,
   "metadata": {},
   "outputs": [
    {
     "data": {
      "text/plain": [
       "1"
      ]
     },
     "execution_count": 83,
     "metadata": {},
     "output_type": "execute_result"
    }
   ],
   "source": [
    "next(squares)"
   ]
  },
  {
   "cell_type": "code",
   "execution_count": 84,
   "metadata": {},
   "outputs": [
    {
     "data": {
      "text/plain": [
       "4"
      ]
     },
     "execution_count": 84,
     "metadata": {},
     "output_type": "execute_result"
    }
   ],
   "source": [
    "next(squares)"
   ]
  },
  {
   "cell_type": "code",
   "execution_count": 86,
   "metadata": {},
   "outputs": [
    {
     "data": {
      "text/plain": [
       "9"
      ]
     },
     "execution_count": 86,
     "metadata": {},
     "output_type": "execute_result"
    }
   ],
   "source": [
    "next(squares)"
   ]
  },
  {
   "cell_type": "code",
   "execution_count": 87,
   "metadata": {},
   "outputs": [
    {
     "name": "stdout",
     "output_type": "stream",
     "text": [
      "16\n",
      "25\n",
      "81\n",
      "36\n"
     ]
    }
   ],
   "source": [
    "for i in squares: \n",
    "    print(i)"
   ]
  },
  {
   "cell_type": "code",
   "execution_count": 88,
   "metadata": {},
   "outputs": [
    {
     "ename": "StopIteration",
     "evalue": "",
     "output_type": "error",
     "traceback": [
      "\u001b[0;31m---------------------------------------------------------------------------\u001b[0m",
      "\u001b[0;31mStopIteration\u001b[0m                             Traceback (most recent call last)",
      "\u001b[0;32m<ipython-input-88-e7cf8d24b3b2>\u001b[0m in \u001b[0;36m<module>\u001b[0;34m\u001b[0m\n\u001b[0;32m----> 1\u001b[0;31m \u001b[0mnext\u001b[0m\u001b[0;34m(\u001b[0m\u001b[0msquares\u001b[0m\u001b[0;34m)\u001b[0m\u001b[0;34m\u001b[0m\u001b[0;34m\u001b[0m\u001b[0m\n\u001b[0m",
      "\u001b[0;31mStopIteration\u001b[0m: "
     ]
    }
   ],
   "source": [
    "next(squares)"
   ]
  },
  {
   "cell_type": "markdown",
   "metadata": {},
   "source": [
    "the magic of generators"
   ]
  },
  {
   "cell_type": "code",
   "execution_count": 105,
   "metadata": {},
   "outputs": [],
   "source": [
    "numbers = [1,2,3,4,5]\n",
    "squares = (n**2 for n in numbers)"
   ]
  },
  {
   "cell_type": "code",
   "execution_count": 109,
   "metadata": {},
   "outputs": [
    {
     "data": {
      "text/plain": [
       "1"
      ]
     },
     "execution_count": 109,
     "metadata": {},
     "output_type": "execute_result"
    }
   ],
   "source": [
    "next(squares)"
   ]
  },
  {
   "cell_type": "code",
   "execution_count": 106,
   "metadata": {},
   "outputs": [],
   "source": [
    "numbers.insert(0,123)"
   ]
  },
  {
   "cell_type": "code",
   "execution_count": 107,
   "metadata": {},
   "outputs": [
    {
     "data": {
      "text/plain": [
       "[123, 1, 2, 3, 4, 5]"
      ]
     },
     "execution_count": 107,
     "metadata": {},
     "output_type": "execute_result"
    }
   ],
   "source": [
    "numbers"
   ]
  },
  {
   "cell_type": "code",
   "execution_count": 108,
   "metadata": {},
   "outputs": [
    {
     "data": {
      "text/plain": [
       "15129"
      ]
     },
     "execution_count": 108,
     "metadata": {},
     "output_type": "execute_result"
    }
   ],
   "source": [
    "next(squares)"
   ]
  },
  {
   "cell_type": "code",
   "execution_count": 148,
   "metadata": {},
   "outputs": [
    {
     "name": "stdout",
     "output_type": "stream",
     "text": [
      "Overwriting exercises/generators.py\n"
     ]
    }
   ],
   "source": [
    "%%writefile exercises/generators.py\n",
    "# %load exercises/generators.py\n",
    "\"\"\"Generator Exercises.\"\"\"\n",
    "import string\n",
    "\n",
    "def is_prime(number):\n",
    "    \"\"\"Return True if candidate number is prime.\"\"\"\n",
    "#     for n in range(2, number): \n",
    "#         if number % n ==0: \n",
    "#             return False \n",
    "#         return True\n",
    "    return all(\n",
    "        number % n != 0 \n",
    "        for n in range(2,number)\n",
    "              )\n",
    "\n",
    "def all_together():\n",
    "    \"\"\"String together all items from the given iterables.\"\"\"  \n",
    "\n",
    "\n",
    "def interleave():\n",
    "    \"\"\"Return iterable of one item at a time from each list.\"\"\"\n",
    "\n",
    "\n",
    "def translate():\n",
    "    \"\"\"Return a transliterated version of the given sentence.\"\"\"\n",
    "\n",
    "\n",
    "def parse_ranges():\n",
    "    \"\"\"Return a list of numbers corresponding to number ranges in a string\"\"\"\n",
    "\n",
    "\n",
    "def first_prime_over():\n",
    "    \"\"\"Return the first prime number over a given number.\"\"\"\n",
    "\n",
    "\n",
    "def is_anagram(word1,word2):\n",
    "    \"\"\"Return True if the given words are anagrams.\"\"\"\n",
    "    return sorted([\n",
    "        x \n",
    "        for x in word2.lower() \n",
    "        if x in string.ascii_lowercase\n",
    "    ])==sorted([\n",
    "        x \n",
    "            for x in word1.lower() \n",
    "            if x in string.ascii_lowercase\n",
    "    ])\n",
    "    \n"
   ]
  },
  {
   "cell_type": "code",
   "execution_count": 142,
   "metadata": {},
   "outputs": [
    {
     "data": {
      "text/plain": [
       "['a',\n",
       " 'k',\n",
       " 'u',\n",
       " 'a',\n",
       " 'd',\n",
       " 'a',\n",
       " 'l',\n",
       " 'a',\n",
       " 'h',\n",
       " 's',\n",
       " 'e',\n",
       " 'b',\n",
       " 'u',\n",
       " 'a',\n",
       " 'h',\n",
       " 'k',\n",
       " 'a',\n",
       " 'l',\n",
       " 'i',\n",
       " 'm',\n",
       " 'a',\n",
       " 't']"
      ]
     },
     "execution_count": 142,
     "metadata": {},
     "output_type": "execute_result"
    }
   ],
   "source": [
    "import string\n",
    "a = 'aku adal(ah sebuah kalimat'\n",
    "b = [x for x in a if x in string.lower]\n",
    "b\n"
   ]
  },
  {
   "cell_type": "code",
   "execution_count": 111,
   "metadata": {},
   "outputs": [],
   "source": [
    "\n",
    "\n",
    "    def test_short_anagram(self):\n",
    "        self.assertTrue(is_anagram(\"tea\", \"eat\"))\n",
    "\n",
    "    def test_different_lengths(self):\n",
    "        self.assertFalse(is_anagram(\"tea\", \"treat\"))\n",
    "\n",
    "    def test_sink_and_skin(self):\n",
    "        self.assertTrue(is_anagram(\"sink\", \"skin\"))\n",
    "\n",
    "    def test_same_letters_different_lengths(self):\n",
    "        self.assertFalse(is_anagram(\"sinks\", \"skin\"))\n",
    "\n",
    "    def test_different_capitalization(self):\n",
    "        self.assertTrue(is_anagram(\"Trey\", \"Yert\"))\n",
    "        self.assertTrue(is_anagram(\"Listen\", \"silent\"))\n",
    "\n",
    "    def test_spaces_ignored(self):\n",
    "        phrase1 = \"William Shakespeare\"\n",
    "        phrase2 = \"I am a weakish speller\"\n",
    "        self.assertTrue(is_anagram(phrase1, phrase2))\n",
    "        self.assertFalse(is_anagram(\"a b c\", \"a b d\"))\n",
    "\n",
    "    def test_punctation_ignored(self):\n",
    "        phrase1 = \"A diet\"\n",
    "        phrase2 = \"I'd eat\"\n",
    "        self.assertTrue(is_anagram(phrase1, phrase2))\n",
    "\n"
   ]
  },
  {
   "cell_type": "code",
   "execution_count": null,
   "metadata": {},
   "outputs": [],
   "source": []
  }
 ],
 "metadata": {
  "kernelspec": {
   "display_name": "Python 3",
   "language": "python",
   "name": "python3"
  },
  "language_info": {
   "codemirror_mode": {
    "name": "ipython",
    "version": 3
   },
   "file_extension": ".py",
   "mimetype": "text/x-python",
   "name": "python",
   "nbconvert_exporter": "python",
   "pygments_lexer": "ipython3",
   "version": "3.7.3"
  }
 },
 "nbformat": 4,
 "nbformat_minor": 4
}
